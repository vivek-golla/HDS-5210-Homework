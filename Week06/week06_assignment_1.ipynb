{
  "cells": [
    {
      "cell_type": "markdown",
      "metadata": {
        "nbgrader": {
          "grade": false,
          "grade_id": "intro",
          "locked": true,
          "schema_version": 1,
          "solution": false
        },
        "id": "pup24M1RkwHy"
      },
      "source": [
        "# Week 6 Exercises\n",
        "\n",
        "_McKinney 6.1_\n",
        "\n",
        "These were about reading and writing files of different formats.  These formats (CSV, JSON, XML, text) are just a few of the files you're going to encounter in the wild.  For example, the price transparency files coming from hospitals are in all of these formats and more!  You won't always have a full-time programmer to reformat this data for you or you may not always have time to wait for someone else to reformat data for you.  So, you need to know how to handle lots of different file formats.\n",
        "\n",
        "Test your knowledge of the content from the lectures through the multiple choice questions below.\n",
        "\n",
        "---\n",
        "---"
      ]
    },
    {
      "cell_type": "markdown",
      "metadata": {
        "id": "Km4AuV_6kwH5"
      },
      "source": [
        "### 26.1 - When a python program writes to a file while others are reading from the file...\n",
        "\n",
        "> A) All programs work as expected\n",
        ">\n",
        "> B) The reading continues, but the writing will fail\n",
        ">\n",
        "> C) Reading is paused until the writing completes\n",
        ">\n",
        "> D) Reading will likely fail\n"
      ]
    },
    {
      "cell_type": "code",
      "execution_count": 1,
      "metadata": {
        "id": "DaDxhefMkwH7"
      },
      "outputs": [],
      "source": [
        "answers = {}\n",
        "answers[\"26.1\"] = \"D\""
      ]
    },
    {
      "cell_type": "markdown",
      "metadata": {
        "id": "67vzHmwIkwH-"
      },
      "source": [
        "### 26.2 - What is the advantage of opening files in Python using a `with` block?\n",
        "\n",
        "> A) It ensures the file is closed as soon as you're done using it\n",
        ">\n",
        "> B) It runs faster than not using the `with` block\n",
        ">\n",
        "> C) It automatically loads the whole file into memory so that it can be accessed faster\n",
        ">\n",
        "> D) Actually, it is the only way to do it\n"
      ]
    },
    {
      "cell_type": "code",
      "execution_count": 2,
      "metadata": {
        "id": "3CschGlPkwH_"
      },
      "outputs": [],
      "source": [
        "answers[\"26.2\"] = \"A\""
      ]
    },
    {
      "cell_type": "markdown",
      "metadata": {
        "id": "58JUuo9JkwIA"
      },
      "source": [
        "### 26.3 - Which one of the following is true?\n",
        "\n",
        "> A) Files can contain any kind of data and it's entirely up to programs to interpret it correctly\n",
        ">\n",
        "> B) All files contain only text, it's the just the text contents that explain the data to the computer\n",
        ">\n",
        "> C) The only file types that exist are JSON, XML, or CSV.\n",
        ">\n",
        "> D) Files only contain characters from the English alphabet\n"
      ]
    },
    {
      "cell_type": "code",
      "execution_count": 3,
      "metadata": {
        "id": "DoCmkII8kwIB"
      },
      "outputs": [],
      "source": [
        "answers[\"26.3\"] = \"A\""
      ]
    },
    {
      "cell_type": "markdown",
      "metadata": {
        "id": "NCYGUuMfkwID"
      },
      "source": [
        "### 27.1 - Which of the following do you think is least likely to be used as a delimiter in structured files?\n",
        "\n",
        "> A) `,`\n",
        ">\n",
        "> B) `|`\n",
        ">\n",
        "> C) `[tab]`\n",
        ">\n",
        "> D) `[space]`\n"
      ]
    },
    {
      "cell_type": "code",
      "execution_count": 4,
      "metadata": {
        "id": "eUlnDZy1kwID"
      },
      "outputs": [],
      "source": [
        "answers[\"27.1\"] = \"D\""
      ]
    },
    {
      "cell_type": "markdown",
      "metadata": {
        "id": "o7FLIWgzkwIE"
      },
      "source": [
        "### 27.2 - Which approaches can be used to read pipe-delimited (`|`) files?\n",
        "\n",
        "*Report your answer as a list of options, e.g.: `[\"A\",\"C\"]`*\n",
        "*One, two, or all three answers may be correct*\n",
        "\n",
        "> A) Using the csv module\n",
        ">\n",
        "> B) Using the pandas module\n",
        ">\n",
        "> C) Using built-in file reading\n"
      ]
    },
    {
      "cell_type": "code",
      "execution_count": 5,
      "metadata": {
        "id": "g6rhfynekwIE"
      },
      "outputs": [],
      "source": [
        "answers[\"27.2\"] = [\"A\", \"B\", \"C\"]"
      ]
    },
    {
      "cell_type": "markdown",
      "metadata": {
        "id": "Euqr2p86kwIE"
      },
      "source": [
        "### 27.3 - In a CSV file, how should the format change if you want to have a `,` in the actual contents of a data field?  For example, if you want to put `LAST, FIRST MIDDLE` into one column of a CSV file, how would you accomodate that.\n",
        "\n",
        "> A) You can't do that.  You have to remove every occurence of `,`s\n",
        ">\n",
        "> B) Enclose the field with the `,` using quotation marks: `\"LAST, FIRST MIDDLE\"`\n",
        ">\n",
        "> C) Escape the `,` using a back-slash: `LAST\\, FIRST MIDDLE`\n",
        ">\n",
        "> D) Nothing special, it will be obvious to the reader\n"
      ]
    },
    {
      "cell_type": "code",
      "execution_count": 6,
      "metadata": {
        "id": "r7pr9k5RkwIE"
      },
      "outputs": [],
      "source": [
        "answers[\"27.3\"] = \"B\""
      ]
    },
    {
      "cell_type": "markdown",
      "metadata": {
        "id": "CY_okkQFkwIF"
      },
      "source": [
        "### 28.1 - Select all of the data types that can be represented within a JSON format:\n",
        "\n",
        "Provide your answer in the form of a list.  For example: `answer = [\"A\",\"B\"]`\n",
        "\n",
        "*NOTE: Final answer may contain one, two, three, or all four choices*\n",
        "> A) str\n",
        ">\n",
        "> B) list\n",
        ">\n",
        "> C) dict\n",
        ">\n",
        "> D) int\n"
      ]
    },
    {
      "cell_type": "code",
      "execution_count": 7,
      "metadata": {
        "id": "2yfvlsqSkwIF"
      },
      "outputs": [],
      "source": [
        "answers[\"28.1\"] = [\"A\", \"B\", \"C\", \"D\"]"
      ]
    },
    {
      "cell_type": "markdown",
      "metadata": {
        "id": "OoszSCiZkwIF"
      },
      "source": [
        "### 28.2 - JSON stands for:\n",
        "\n",
        "> A) Just a Simple Object Notation\n",
        ">\n",
        "> B) JavaScript Object Notation\n",
        ">\n",
        "> C) JavaScript Objects and Numbers\n",
        ">\n",
        "> D) Java Standard Object Notation\n"
      ]
    },
    {
      "cell_type": "code",
      "execution_count": 8,
      "metadata": {
        "id": "b9zBiou_kwIF"
      },
      "outputs": [],
      "source": [
        "answers[\"28.2\"] = \"B\""
      ]
    },
    {
      "cell_type": "markdown",
      "metadata": {
        "id": "L2TnS7ZhkwIG"
      },
      "source": [
        "### 28.3 - Without just running the code, what will the following code print?\n",
        "\n",
        "```\n",
        "import json\n",
        "\n",
        "data = \"\"\"\n",
        "[  {\"id\": { \"last name\": \"Boal\", \"first name\": \"Paul\", \"middle initial\": \"E\" }},\n",
        "   {\"id\": { \"last name\": \"Westhus\", \"first name\": \"Eric\" }} ]\n",
        "\"\"\"\n",
        "\n",
        "names = json.loads(data)\n",
        "list(names[1]['id'].keys())[1]\n",
        "```\n",
        "\n",
        "> A) 'Eric'\n",
        ">\n",
        "> B) 'first name'\n",
        ">\n",
        "> C) 'last name'\n",
        ">\n",
        "> D) 'Boal'\n"
      ]
    },
    {
      "cell_type": "code",
      "execution_count": 9,
      "metadata": {
        "id": "Z-iGDfwlkwIG"
      },
      "outputs": [],
      "source": [
        "answers[\"28.3\"] = \"B\""
      ]
    },
    {
      "cell_type": "markdown",
      "metadata": {
        "id": "vT5TiXdjkwIG"
      },
      "source": [
        "### 29.1 - In this class, XML Stands for:\n",
        "\n",
        "> A) eXtensible Markup Language\n",
        ">\n",
        "> B) The 10th version of the Markup Language\n",
        ">\n",
        "> C) eXhange Markup Language\n",
        ">\n",
        "> D) X-Men Legends\n"
      ]
    },
    {
      "cell_type": "code",
      "execution_count": 10,
      "metadata": {
        "id": "cTXovLJgkwIH"
      },
      "outputs": [],
      "source": [
        "answers[\"29.1\"] = \"A\""
      ]
    },
    {
      "cell_type": "markdown",
      "metadata": {
        "id": "prYPSm4IkwIH"
      },
      "source": [
        "### 29.2 - Which of the following is not a type of data in an XML document?\n",
        "\n",
        "> A) tags\n",
        ">\n",
        "> B) attributes\n",
        ">\n",
        "> C) text\n",
        ">\n",
        "> D) list\n"
      ]
    },
    {
      "cell_type": "code",
      "execution_count": 11,
      "metadata": {
        "id": "-q1bJMHokwIH"
      },
      "outputs": [],
      "source": [
        "answers[\"29.2\"] = \"D\""
      ]
    },
    {
      "cell_type": "markdown",
      "metadata": {
        "id": "p8qQsBglkwIH"
      },
      "source": [
        "### 29.3 - True or False, each element in an XML document can only have one child with a specific tag.\n",
        "\n",
        "For example, is the following XML illegal because there are two child elements with the tag \"kid\":\n",
        "\n",
        "```xml\n",
        "<family>\n",
        "  <parent role=\"dad\">Paul Boal</parent>\n",
        "  <kid role=\"daughter\">Eleanor</kid>\n",
        "  <kid role=\"daughter\">Adelaide</kid>\n",
        "</family>\n",
        "```\n",
        "\n",
        "> A) The above XML is valid.  \n",
        ">\n",
        "> B) The above XML is invalid.\n"
      ]
    },
    {
      "cell_type": "code",
      "execution_count": 12,
      "metadata": {
        "id": "kH_WuLGskwIH"
      },
      "outputs": [],
      "source": [
        "answers[\"29.3\"] = \"A\""
      ]
    },
    {
      "cell_type": "markdown",
      "metadata": {
        "id": "HuSRvLynkwII"
      },
      "source": [
        "---\n",
        "\n",
        "Checking Your Work\n",
        "---\n",
        "\n",
        "After completing your work above and running each cell, you can check your answers by running the code below.\n",
        "\n",
        "The easiest way to do this is to use the `Kernel` -> `Restart Kernel and Run All Cells` menu option. This option restarts Python and runs every cell from top to bottom until it encounters an exception of some kind.  It will stop after running the cell below and outputing a summary of how many answers you have correct or incorrect.\n"
      ]
    },
    {
      "cell_type": "code",
      "execution_count": 13,
      "metadata": {
        "id": "mC1HaoS5kwII",
        "outputId": "20c56a12-9895-405b-dd2e-4f6e67a4614f",
        "colab": {
          "base_uri": "https://localhost:8080/"
        }
      },
      "outputs": [
        {
          "output_type": "stream",
          "name": "stdout",
          "text": [
            "Question 26.1 is CORRECT\n",
            "Question 26.2 is CORRECT\n",
            "Question 26.3 is CORRECT\n",
            "Question 27.1 is CORRECT\n",
            "Question 27.2 is CORRECT\n",
            "Question 27.3 is CORRECT\n",
            "Question 28.1 is CORRECT\n",
            "Question 28.2 is CORRECT\n",
            "Question 28.3 is CORRECT\n",
            "Question 29.1 is CORRECT\n",
            "Question 29.2 is CORRECT\n",
            "Question 29.3 is CORRECT\n"
          ]
        }
      ],
      "source": [
        "import pickle\n",
        "\n",
        "data = b'\\x80\\x04\\x95\\x8b\\x00\\x00\\x00\\x00\\x00\\x00\\x00}\\x94(\\x8c\\x0426.1\\x94\\x8c\\x01D\\x94\\x8c\\x0426.2\\x94\\x8c\\x01A\\x94\\x8c\\x0426.3\\x94h\\x04\\x8c\\x0427.1\\x94h\\x02\\x8c\\x0427.2\\x94]\\x94(h\\x04\\x8c\\x01B\\x94\\x8c\\x01C\\x94e\\x8c\\x0427.3\\x94h\\t\\x8c\\x0428.1\\x94]\\x94(h\\x04h\\th\\nh\\x02e\\x8c\\x0428.2\\x94h\\t\\x8c\\x0428.3\\x94h\\t\\x8c\\x0429.1\\x94h\\x04\\x8c\\x0429.2\\x94h\\x02\\x8c\\x0429.3\\x94h\\x04u.'\n",
        "result = pickle.loads(data)\n",
        "\n",
        "for key in result:\n",
        "  if answers[key] == result[key]:\n",
        "    print(f\"Question {key} is CORRECT\")\n",
        "  else:\n",
        "    print(f\"Question {key} is INCORRECT\")"
      ]
    },
    {
      "cell_type": "markdown",
      "metadata": {
        "id": "CfFZU9lMkwII"
      },
      "source": [
        "---\n",
        "\n",
        "## Check your work above\n",
        "\n",
        "If you didn't get them all correct, take a few minutes to think through those that aren't correct.\n",
        "\n",
        "\n",
        "## Submitting Your Work\n",
        "\n",
        "In order to submit your work, you'll need to save this notebook file back to GitHub.  To do that in Google Colab:\n",
        "1. File -> Save a Copy in GitHub\n",
        "2. Make sure your HDS5210 repository is selected\n",
        "3. Make sure the file name includes the week number like this: `week06/week06_assignment_1.ipynb`\n",
        "4. Add a commit message that means something\n",
        "\n",
        "**Be sure week names are lowercase and use a two digit week number!!**\n",
        "\n",
        "**Be sure you use the same file name provided by the instructor!!**\n",
        "\n"
      ]
    },
    {
      "cell_type": "code",
      "execution_count": 13,
      "metadata": {
        "id": "1QKIoTLzkwIJ"
      },
      "outputs": [],
      "source": []
    }
  ],
  "metadata": {
    "celltoolbar": "Create Assignment",
    "kernelspec": {
      "display_name": "Python 3 (ipykernel)",
      "language": "python",
      "name": "python3"
    },
    "language_info": {
      "codemirror_mode": {
        "name": "ipython",
        "version": 3
      },
      "file_extension": ".py",
      "mimetype": "text/x-python",
      "name": "python",
      "nbconvert_exporter": "python",
      "pygments_lexer": "ipython3",
      "version": "3.9.6"
    },
    "colab": {
      "provenance": []
    }
  },
  "nbformat": 4,
  "nbformat_minor": 0
}