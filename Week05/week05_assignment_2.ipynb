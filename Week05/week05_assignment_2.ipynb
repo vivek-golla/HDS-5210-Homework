{
  "cells": [
    {
      "cell_type": "markdown",
      "metadata": {
        "nbgrader": {
          "grade": false,
          "grade_id": "intro",
          "locked": true,
          "schema_version": 1,
          "solution": false
        },
        "id": "ILhFjKqYnpaw"
      },
      "source": [
        "# Week 5 Exercises\n",
        "\n",
        "_McKinney 3.2_\n",
        "\n",
        "**Unlike in previous weeks, in the exercises below, you will need to create a function definition from scratch.  I'll provide specific instructions and examples for how it will be used, but you will have to do the work of definiging the whole function.**\n",
        "\n",
        "---\n",
        "---"
      ]
    },
    {
      "cell_type": "markdown",
      "metadata": {
        "nbgrader": {
          "grade": false,
          "grade_id": "longest",
          "locked": true,
          "schema_version": 1,
          "solution": false
        },
        "id": "ewBEE8oMnpay"
      },
      "source": [
        "### 25.1 Longest String\n",
        "\n",
        "Write a function called `longest (L)` that takes as its only parameter a list of strings.  Your function needs to find the longest of those strings and return the position number of that longest string.  An example is provided below:\n",
        "\n",
        "The longest word in that list of strings is \"birthday\" in position #1, so `longest(strings)` should return 1.\n",
        "```\n",
        ">>> strings = ['happy', 'birthday', 'to', 'me']\n",
        ">>> longest(strings)\n",
        "1\n",
        "```\n",
        "\n",
        "Be sure to include a docstring.  Include test cases in your docstring if you want to."
      ]
    },
    {
      "cell_type": "code",
      "execution_count": 1,
      "metadata": {
        "nbgrader": {
          "grade": false,
          "grade_id": "longest-answer",
          "locked": false,
          "schema_version": 1,
          "solution": true
        },
        "id": "9GwxqGLBnpaz"
      },
      "outputs": [],
      "source": [
        "### BEGIN SOLUTION\n",
        "def longest (L):\n",
        "  \"\"\"\n",
        "  The following function takes a list of strings, and returns the index of the\n",
        "  longest string\n",
        "\n",
        "  Argument(s): L   -> the list of strings\n",
        "  Output: Returns longest_index, the index of longest element within L\n",
        "\n",
        "  >>> longest([\"bees\",\"trees\",\"octopus\",\"cat\",\"barn\"])\n",
        "  2\n",
        "  \"\"\"\n",
        "\n",
        "  longest_word=0\n",
        "  for string in L:\n",
        "    if len(string)>longest_word:\n",
        "      longest_index=L.index(string)\n",
        "      longest_word=len(string)\n",
        "  return longest_index\n",
        "### END SOLUTION"
      ]
    },
    {
      "cell_type": "code",
      "execution_count": 2,
      "metadata": {
        "nbgrader": {
          "grade": true,
          "grade_id": "longest-tests",
          "locked": true,
          "points": 10,
          "schema_version": 1,
          "solution": false
        },
        "id": "u1oRMUrrnpa0"
      },
      "outputs": [],
      "source": [
        "assert longest(\"happy birthday to me\".split(\" \")) == 1\n",
        "assert longest(\"enjoy class\".split(\" \")) == 0\n",
        "assert longest(['when','what','where','how','who']) == 2"
      ]
    },
    {
      "cell_type": "code",
      "execution_count": 16,
      "metadata": {
        "id": "w27LSVrTnpa1",
        "outputId": "a3cb8774-3133-4eaf-ff42-e6ac2e699815",
        "colab": {
          "base_uri": "https://localhost:8080/"
        }
      },
      "outputs": [
        {
          "output_type": "stream",
          "name": "stdout",
          "text": [
            "Finding tests in NoName\n",
            "Trying:\n",
            "    longest([\"bees\",\"trees\",\"octopus\",\"cat\",\"barn\"])\n",
            "Expecting:\n",
            "    2\n",
            "ok\n"
          ]
        }
      ],
      "source": [
        "import doctest\n",
        "doctest.run_docstring_examples(longest, globals(), verbose=True)"
      ]
    },
    {
      "cell_type": "markdown",
      "metadata": {
        "id": "u5gtfps6npa2"
      },
      "source": [
        "### 25.2 Farenheit to Celsius\n",
        "\n",
        "Write a function called f_to_c() that converts a given temperature in degrees Farenheit to degrees Celsius.  If you don't recall that conversion, it is:\n",
        "\n",
        "$ temp_c = \\frac{5}{9} \\times (temp_f - 32) $\n",
        "\n",
        "Make sure that you code is well documented using the DocString examples, and that your code includes tests for 212f, 32f, and 98.6f."
      ]
    },
    {
      "cell_type": "code",
      "execution_count": 4,
      "metadata": {
        "id": "3kIMZAfonpa3"
      },
      "outputs": [],
      "source": [
        "### BEGIN SOLUTION\n",
        "def f_to_c(temp_f):\n",
        "  \"\"\"\n",
        "  The following function converts a temperature value from farenheit to\n",
        "  celsius\n",
        "\n",
        "  Argument(s): temp_f, an int or float value containing the temperature in farenheit\n",
        "  Output: Returns temp_c, a float containing value in celsius\n",
        "\n",
        "  >>> f_to_c(212)\n",
        "  100.0\n",
        "\n",
        "  >>> f_to_c(32)\n",
        "  0.0\n",
        "\n",
        "  >>> f_to_c(98.6)\n",
        "  37.0\n",
        "  \"\"\"\n",
        "  temp_c = (5/9)*(temp_f-32)\n",
        "  return temp_c\n",
        "### END SOLUTION"
      ]
    },
    {
      "cell_type": "code",
      "execution_count": 5,
      "metadata": {
        "id": "tL6Tp4ednpa3"
      },
      "outputs": [],
      "source": [
        "assert f_to_c(212) == 100.0\n",
        "assert f_to_c(32) == 0.0\n",
        "assert f_to_c(98.6) == 37.0"
      ]
    },
    {
      "cell_type": "code",
      "execution_count": 6,
      "metadata": {
        "id": "2UGTIiVPnpa4",
        "outputId": "ea030eb4-ff94-4913-e652-814993120253",
        "colab": {
          "base_uri": "https://localhost:8080/"
        }
      },
      "outputs": [
        {
          "output_type": "stream",
          "name": "stdout",
          "text": [
            "Finding tests in NoName\n",
            "Trying:\n",
            "    f_to_c(212)\n",
            "Expecting:\n",
            "    100.0\n",
            "ok\n",
            "Trying:\n",
            "    f_to_c(32)\n",
            "Expecting:\n",
            "    0.0\n",
            "ok\n",
            "Trying:\n",
            "    f_to_c(98.6)\n",
            "Expecting:\n",
            "    37.0\n",
            "ok\n"
          ]
        }
      ],
      "source": [
        "import doctest\n",
        "doctest.run_docstring_examples(f_to_c, globals(), verbose=True)"
      ]
    },
    {
      "cell_type": "markdown",
      "metadata": {
        "id": "D07vupLrnpa5"
      },
      "source": [
        "### 25.3 Computing Length of Stay\n",
        "\n",
        "For this problem, we have a collection of patient enounter data stored as a Python dictionary.  The `key` for the dictionary is the **encounter ID**, a code that starts with the letter `E` followed by four numbers.  The value associated with each encounter ID is another Python dictionary.  This \"inner\" dictionary holds three items: admit date, primary diagnosis, and discharge date.  See the example in the code below.\n",
        "\n",
        "You need to write a length of stay function that computes the length of stay, in whole days, between the admit date and discharge date.  However, if the diagnosis is \"Observation\" then the length of stay should always be returned as 0 regardless of the admit and discharge dates. Your function should should take three parameters: a start date, an end date, and a diagnosis.\n",
        "\n",
        "You will find it handy to refer to this example here on how to calculate the number of days between two dates: https://stackoverflow.com/questions/151199/how-to-calculate-number-of-days-between-two-given-dates"
      ]
    },
    {
      "cell_type": "code",
      "execution_count": 7,
      "metadata": {
        "id": "Uk0SEriNnpa5"
      },
      "outputs": [],
      "source": [
        "from datetime import date\n",
        "\n",
        "### BEGIN SOLUTION\n",
        "def los(start, end, diagnosis):\n",
        "  \"\"\"\n",
        "  This function calculates length of stay, in days, given the start and end days\n",
        "  and also checks the diagnosis, which if \"Observation\", returns a value of 0.\n",
        "\n",
        "  Arguments: start - start date\n",
        "             end  - end date\n",
        "             diagnosis - string\n",
        "  Output: an int value representing length of stay as number of days\n",
        "\n",
        "  >>> los(date(2019,1,3), date(2019,1,8), \"COPD\")\n",
        "  5\n",
        "  >>> los(date(2020,1,5), date(2020,1,8), \"Observation\")\n",
        "  0\n",
        "  \"\"\"\n",
        "  if diagnosis==\"Observation\":\n",
        "    return 0\n",
        "  else:\n",
        "    return (end-start).days\n",
        "### END SOLUTION"
      ]
    },
    {
      "cell_type": "code",
      "execution_count": 8,
      "metadata": {
        "id": "agmuPrvznpa6"
      },
      "outputs": [],
      "source": [
        "assert los(date(2019,1,3), date(2019,1,8), \"COPD\") == 5\n",
        "assert los(date(2020,1,5), date(2020,1,8), \"Observation\") == 0"
      ]
    },
    {
      "cell_type": "code",
      "execution_count": 9,
      "metadata": {
        "id": "v9H298u3npa6",
        "outputId": "5837c483-d3aa-42d5-9901-137d02b068f7",
        "colab": {
          "base_uri": "https://localhost:8080/"
        }
      },
      "outputs": [
        {
          "output_type": "stream",
          "name": "stdout",
          "text": [
            "Finding tests in NoName\n",
            "Trying:\n",
            "    los(date(2019,1,3), date(2019,1,8), \"COPD\")\n",
            "Expecting:\n",
            "    5\n",
            "ok\n",
            "Trying:\n",
            "    los(date(2020,1,5), date(2020,1,8), \"Observation\")\n",
            "Expecting:\n",
            "    0\n",
            "ok\n"
          ]
        }
      ],
      "source": [
        "import doctest\n",
        "doctest.run_docstring_examples(los, globals(), verbose=True)"
      ]
    },
    {
      "cell_type": "code",
      "execution_count": 10,
      "metadata": {
        "id": "EOU2XBw3npa7",
        "outputId": "00c5aad6-6281-4970-e0cc-b0d267383a86",
        "colab": {
          "base_uri": "https://localhost:8080/"
        }
      },
      "outputs": [
        {
          "output_type": "stream",
          "name": "stdout",
          "text": [
            "5\n",
            "4\n",
            "1\n",
            "0\n",
            "0\n"
          ]
        }
      ],
      "source": [
        "encounters = {\n",
        "    \"E1234\": { \"admit\": date(2019,1,3), \"diagnosis\": \"COPD\", \"discharge\": date(2019,1,8) },\n",
        "    \"E8342\": { \"admit\": date(2019,1,5), \"diagnosis\": \"Hypertension\", \"discharge\": date(2019,1,9) },\n",
        "    \"E9231\": { \"admit\": date(2019,1,12), \"diagnosis\": \"Anxiety\", \"discharge\": date(2019,1,13) },\n",
        "    \"E8333\": { \"admit\": date(2019,1,15), \"diagnosis\": \"Observation\", \"discharge\": date(2019,1,16) },\n",
        "    \"E3342\": { \"admit\": date(2019,1,4), \"diagnosis\": \"Anxiety\", \"discharge\": date(2019,1,4)}\n",
        "}\n",
        "\n",
        "\n",
        "for encid, visit in encounters.items():\n",
        "    print(los(visit['admit'],visit['discharge'],visit['diagnosis']))\n",
        "\n",
        "# Your output should be\n",
        "# 5\n",
        "# 4\n",
        "# 1\n",
        "# 0\n",
        "# 0"
      ]
    },
    {
      "cell_type": "markdown",
      "metadata": {
        "id": "uMMji7O_npa7"
      },
      "source": [
        "---\n",
        "---\n",
        "\n",
        "### 25.4 Average Length of Stay\n",
        "\n",
        "Create a function called `average_los` that returns the average of the LOS for the encounters in the provided dictionary. The encounters must be a dictionary that contains dictionaries that each contain at least an admit date and a discharge date.\n",
        "    \n",
        "If the length of stay of any individual encounter is 0, then it will not be counted toward the average."
      ]
    },
    {
      "cell_type": "code",
      "execution_count": 11,
      "metadata": {
        "id": "KbXkpWXhnpa7"
      },
      "outputs": [],
      "source": [
        "from datetime import date\n",
        "### BEGIN SOLUTION\n",
        "def average_los(encounters):\n",
        "  \"\"\"\n",
        "  This function calculates average length of stay over encounters provided in a\n",
        "  dictionary, while ignoring cases where length of stay is zero. Uses the helper\n",
        "  function los() which was defined previously.\n",
        "\n",
        "  Argument(s):\n",
        "    encounters ->\n",
        "    the dictionary containing encounters, key is an encounter id and value is a\n",
        "    dictionary containing admit date, diagnosis, and discharge date\n",
        "\n",
        "  Output: a float containing average length of stay across the encounters\n",
        "  \"\"\"\n",
        "  total_stay=0\n",
        "  count=0\n",
        "\n",
        "  for encounter_id,visit in encounters.items():\n",
        "    length_stay = los(visit['admit'],visit['discharge'],visit['diagnosis'])\n",
        "    if length_stay!=0:\n",
        "      total_stay+=length_stay\n",
        "      count+=1\n",
        "  average_los = (total_stay/count)\n",
        "  return average_los\n",
        "\n",
        "### END SOLUTION"
      ]
    },
    {
      "cell_type": "code",
      "execution_count": 12,
      "metadata": {
        "id": "KnkFOQuZnpa7"
      },
      "outputs": [],
      "source": [
        "from datetime import date\n",
        "encounters = {\n",
        "    \"E1234\": { \"admit\": date(2019,1,3), \"diagnosis\": \"COPD\", \"discharge\": date(2019,1,8) },\n",
        "    \"E8342\": { \"admit\": date(2019,1,5), \"diagnosis\": \"Hypertension\", \"discharge\": date(2019,1,9) },\n",
        "    \"E9231\": { \"admit\": date(2019,1,12), \"diagnosis\": \"Anxiety\", \"discharge\": date(2019,1,13) },\n",
        "    \"E8333\": { \"admit\": date(2019,1,15), \"diagnosis\": \"Observation\", \"discharge\": date(2019,1,16) },\n",
        "    \"E3342\": { \"admit\": date(2019,1,4), \"diagnosis\": \"Anxiety\", \"discharge\": date(2019,1,4)}\n",
        "}\n",
        "\n",
        "assert(round(average_los(encounters),2) == 3.33)"
      ]
    },
    {
      "cell_type": "code",
      "execution_count": 13,
      "metadata": {
        "id": "yDjwp0BAnpa8",
        "outputId": "f1ed61b2-75b7-416d-bd8b-2c9ea82c8a46",
        "colab": {
          "base_uri": "https://localhost:8080/"
        }
      },
      "outputs": [
        {
          "output_type": "stream",
          "name": "stdout",
          "text": [
            "Finding tests in NoName\n"
          ]
        }
      ],
      "source": [
        "import doctest\n",
        "doctest.run_docstring_examples(average_los, globals(), verbose=True)"
      ]
    },
    {
      "cell_type": "markdown",
      "metadata": {
        "id": "gmytmvJwnpa8"
      },
      "source": [
        "---\n",
        "\n",
        "### 25.5 Celsius to Farenheit\n",
        "\n",
        "Write your own function called `c_to_f` that converts degrees Celsius to degrees Farenheit.  Include in your solution a series of doc tests that can verify the conversion using inputs of 100, 0, and 37 degrees Celsius"
      ]
    },
    {
      "cell_type": "code",
      "execution_count": 14,
      "metadata": {
        "id": "D2LhUp-vnpa8"
      },
      "outputs": [],
      "source": [
        "### BEGIN SOLUTION\n",
        "def c_to_f(temp_c):\n",
        "  \"\"\"\n",
        "  The following function converts a temperature value from celsius  to\n",
        "  farenheit\n",
        "\n",
        "  Argument(s): temp_c, an int or float value containing the temperature in celsius\n",
        "  Output: Returns temp_f, a float containing value in farenheit, rounded to 2 decimals\n",
        "\n",
        "  >>> c_to_f(100)\n",
        "  212.0\n",
        "\n",
        "  >>> c_to_f(0)\n",
        "  32.0\n",
        "\n",
        "  >>> c_to_f(37)\n",
        "  98.6\n",
        "  \"\"\"\n",
        "  temp_f = round((temp_c*(9/5))+32,2)\n",
        "  return temp_f\n",
        "### END SOLUTION"
      ]
    },
    {
      "cell_type": "code",
      "execution_count": 15,
      "metadata": {
        "id": "FmCcMHT7npa8",
        "outputId": "b92c1154-9701-4b44-8371-0dd18200e0a2",
        "colab": {
          "base_uri": "https://localhost:8080/"
        }
      },
      "outputs": [
        {
          "output_type": "stream",
          "name": "stdout",
          "text": [
            "Finding tests in NoName\n",
            "Trying:\n",
            "    c_to_f(100)\n",
            "Expecting:\n",
            "    212.0\n",
            "ok\n",
            "Trying:\n",
            "    c_to_f(0)\n",
            "Expecting:\n",
            "    32.0\n",
            "ok\n",
            "Trying:\n",
            "    c_to_f(37)\n",
            "Expecting:\n",
            "    98.6\n",
            "ok\n"
          ]
        }
      ],
      "source": [
        "import doctest\n",
        "doctest.run_docstring_examples(c_to_f, globals(), verbose=True)"
      ]
    },
    {
      "cell_type": "code",
      "execution_count": 15,
      "metadata": {
        "id": "Z5LfPk5Inpa8"
      },
      "outputs": [],
      "source": []
    },
    {
      "cell_type": "markdown",
      "metadata": {
        "id": "W3JLUfwenpa9"
      },
      "source": [
        "---\n",
        "\n",
        "## Check your work above\n",
        "\n",
        "If you didn't get them all correct, take a few minutes to think through those that aren't correct.\n",
        "\n",
        "\n",
        "## Submitting Your Work\n",
        "\n",
        "In order to submit your work, you'll need to use the `git` command line program to **add** your homework file (this file) to your local repository, **commit** your changes to your local repository, and then **push** those changes up to github.com.  From there, I'll be able to **pull** the changes down and do my grading.  I'll provide some feedback, **commit** and **push** my comments back to you.  Next week, I'll show you how to **pull** down my comments.\n",
        "\n",
        "First run through everything one last time and submit your work:\n",
        "1. Use the `Kernel` -> `Restart Kernel and Run All Cells` menu option to run everything from top to bottom and stop here.\n",
        "2. Then open a new command line by clicking the `+` icon above the file list and chosing `Terminal`\n",
        "3. At the command line in the new Terminal, follow these steps:\n",
        "  1. Change directories to your project folder and the week03 subfolder (`cd <folder name>`)\n",
        "  2. Make sure your project folders are up to date with github.com (`git pull`)\n",
        "  3. Add the homework files for this week (`git add <file name>`)\n",
        "  4. Commit your changes (`git commit -a -m \"message\"`)\n",
        "  5. Push your changes (`git push`)\n",
        "  \n",
        "If anything fails along the way with this submission part of the process, let me know.  I'll help you troubleshoort."
      ]
    }
  ],
  "metadata": {
    "celltoolbar": "Create Assignment",
    "kernelspec": {
      "display_name": "Python 3",
      "language": "python",
      "name": "python3"
    },
    "language_info": {
      "codemirror_mode": {
        "name": "ipython",
        "version": 3
      },
      "file_extension": ".py",
      "mimetype": "text/x-python",
      "name": "python",
      "nbconvert_exporter": "python",
      "pygments_lexer": "ipython3",
      "version": "3.6.7"
    },
    "colab": {
      "provenance": []
    }
  },
  "nbformat": 4,
  "nbformat_minor": 0
}