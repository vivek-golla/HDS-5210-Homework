{
  "cells": [
    {
      "cell_type": "markdown",
      "metadata": {
        "nbgrader": {
          "grade": false,
          "grade_id": "intro",
          "locked": true,
          "schema_version": 1,
          "solution": false
        },
        "id": "FLPteSERnpMb"
      },
      "source": [
        "# Week 5 Exercises\n",
        "\n",
        "_McKinney 3.2_\n",
        "\n",
        "These modules were all about the idea of creating your own functions from scratch.  In previous weeks, I've been providing that framework for you. If you're new to programming, that may not have entirely made sense.  With this week's lecture it should start to feel better.  Test your knowledge of the content from the lectures through the multiple choice questions below.\n",
        "\n",
        "---\n",
        "---"
      ]
    },
    {
      "cell_type": "markdown",
      "metadata": {
        "id": "DIqvrvRSnpMc"
      },
      "source": [
        "### 21.1 What does the keyword `def` mean before a function name?\n",
        "\n",
        "> A) _define_ - You are saying that this is the function definition\n",
        ">\n",
        "> B) _default_ - This is the default work the function should do\n",
        ">\n",
        "> C) _def_ - Doesn't stand for anything, it's just what you put there\n",
        ">\n",
        "> D) _defer_ - Meaning don't do anything right now"
      ]
    },
    {
      "cell_type": "code",
      "execution_count": 1,
      "metadata": {
        "id": "SRbwgklQnpMd"
      },
      "outputs": [],
      "source": [
        "answers = {}\n",
        "answers[\"21.1\"] = \"A\""
      ]
    },
    {
      "cell_type": "markdown",
      "metadata": {
        "id": "67y-eyhOnpMe"
      },
      "source": [
        "### 21.2 Which of the following are valid ways to call the function with the `def` below?\n",
        "\n",
        "Placeholders for three answers are provided, but more correct options may exist.\n",
        "\n",
        "```python\n",
        "def my_function (fname='John', lname='Doe', gender='M'):\n",
        "    ...\n",
        "```\n",
        "\n",
        "> A) `my_function()`\n",
        ">\n",
        "> B) `my_function(last_name='Boal')`\n",
        ">\n",
        "> C) `my_function(fname='Paul', lname='Boal')`\n",
        ">\n",
        "> D) `my_function(lname='Boal', fname='Paul', gender='M')`"
      ]
    },
    {
      "cell_type": "code",
      "execution_count": 2,
      "metadata": {
        "id": "dISEEZ3nnpMf"
      },
      "outputs": [],
      "source": [
        "answers[\"21.2\"] = [\"A\", \"C\", \"D\"]"
      ]
    },
    {
      "cell_type": "markdown",
      "metadata": {
        "id": "4Ogtx3cAnpMf"
      },
      "source": [
        "### 21.3 Which of the following lines of code does not have any functions in it?\n",
        "\n",
        "\n",
        "> A) `pi * (radius ** 2)`\n",
        ">\n",
        "> B) `[ x for x in range(10) ]`\n",
        ">\n",
        "> C) `value = math.log(23,2)`\n",
        ">\n",
        "> D) `print('I am a good student')`"
      ]
    },
    {
      "cell_type": "code",
      "execution_count": 3,
      "metadata": {
        "id": "wb0BEpY7npMg"
      },
      "outputs": [],
      "source": [
        "answers[\"21.3\"] = \"A\""
      ]
    },
    {
      "cell_type": "markdown",
      "metadata": {
        "id": "SnWbxYjTnpMh"
      },
      "source": [
        "### 21.4 Which of the following is not a valid function definition line for function that calculates R0 (aka \"R naught\")\n",
        "\n",
        "> A) `def R0 (attack_rate, susceptible_population):`\n",
        ">\n",
        "> B) `def r-naught (attack_rate, susceptible_population):`\n",
        ">\n",
        "> C) `def r_naught (attack_rate, susceptible_population):`\n",
        ">\n",
        "> D) `def R0 (susceptible_population, attack_rate):`"
      ]
    },
    {
      "cell_type": "code",
      "execution_count": 4,
      "metadata": {
        "id": "QAP-50tgnpMi"
      },
      "outputs": [],
      "source": [
        "answers[\"21.4\"] = \"B\""
      ]
    },
    {
      "cell_type": "markdown",
      "metadata": {
        "id": "MZgegTFWnpMi"
      },
      "source": [
        "### 22.1 Which is true about docstrings?\n",
        "\n",
        "> A) They are stored in Python as just a long string inside the function definition.\n",
        ">\n",
        "> B) They can contain tests to help you demonstrate your code works correctly.\n",
        ">\n",
        "> C) They tell Python what to say when someone asks for `help()` on your function.\n",
        ">\n",
        "> D) All of these"
      ]
    },
    {
      "cell_type": "code",
      "execution_count": 5,
      "metadata": {
        "id": "Uiqh9aGqnpMj"
      },
      "outputs": [],
      "source": [
        "answers[\"22.1\"] = \"D\""
      ]
    },
    {
      "cell_type": "markdown",
      "metadata": {
        "id": "Z7kIGBnRnpMj"
      },
      "source": [
        "### 22.2 True or False: From now on you should include docstrings in the _programming_ homework assignments?\n",
        "\n",
        "> A) True\n",
        ">\n",
        "> B) False"
      ]
    },
    {
      "cell_type": "code",
      "execution_count": 6,
      "metadata": {
        "id": "eAUg94r8npMk"
      },
      "outputs": [],
      "source": [
        "answers[\"22.2\"] = \"A\""
      ]
    },
    {
      "cell_type": "markdown",
      "metadata": {
        "id": "Vv8kmZeznpMk"
      },
      "source": [
        "### 23.1 Which of the following is most common way to encapsulate data processing rules in Python?\n",
        "\n",
        "> A) dict\n",
        ">\n",
        "> B) str\n",
        ">\n",
        "> C) function\n",
        ">\n",
        "> D) tuple\n",
        ">\n",
        "> E) int"
      ]
    },
    {
      "cell_type": "code",
      "execution_count": 7,
      "metadata": {
        "id": "KLHFLcaonpMl"
      },
      "outputs": [],
      "source": [
        "answers[\"23.1\"] = \"C\""
      ]
    },
    {
      "cell_type": "markdown",
      "metadata": {
        "id": "9tIWD1WbnpMl"
      },
      "source": [
        "### 23.2 What does DRY stand for?\n",
        "\n",
        "\n",
        "> A) Do not repeat yourself\n",
        ">\n",
        "> B) Do not repeat yourself\n",
        ">\n",
        "> C) Do not repeat yourself\n",
        ">\n",
        "> D) All of the above"
      ]
    },
    {
      "cell_type": "code",
      "execution_count": 8,
      "metadata": {
        "id": "MJUDYddInpMl"
      },
      "outputs": [],
      "source": [
        "answers[\"23.2\"] = \"D\""
      ]
    },
    {
      "cell_type": "markdown",
      "metadata": {
        "id": "-sw9r7YmnpMm"
      },
      "source": [
        "### 24.1 When Python tells you there's been an exception, what is the key word that we use in our Python code to indicate how Python should react to that exception?\n",
        "\n",
        "> A) Throw\n",
        ">\n",
        "> B) Raise\n",
        ">\n",
        "> C) Except\n",
        ">\n",
        "> D) Crash"
      ]
    },
    {
      "cell_type": "code",
      "execution_count": 9,
      "metadata": {
        "id": "wd0U4uYAnpMm"
      },
      "outputs": [],
      "source": [
        "answers[\"24.1\"] = \"C\""
      ]
    },
    {
      "cell_type": "markdown",
      "metadata": {
        "id": "rcZK5WD5npMn"
      },
      "source": [
        "### 24.2 When you, as the programmer, want to notify Python that an exception should be triggered, what is the key word we use for that?\n",
        "\n",
        "> A) Throw\n",
        ">\n",
        "> B) Raise\n",
        ">\n",
        "> C) Except\n",
        ">\n",
        "> D) Crash"
      ]
    },
    {
      "cell_type": "code",
      "execution_count": 10,
      "metadata": {
        "id": "TpzPULDAnpMn"
      },
      "outputs": [],
      "source": [
        "answers[\"24.2\"] = \"B\""
      ]
    },
    {
      "cell_type": "markdown",
      "metadata": {
        "id": "DoTrPtHynpMn"
      },
      "source": [
        "---\n",
        "\n",
        "Checking Your Work\n",
        "---\n",
        "\n",
        "After completing your work above and running each cell, you can check your answers by running the code below.\n",
        "\n",
        "The easiest way to do this is to use the `Kernel` -> `Restart Kernel and Run All Cells` menu option. This option restarts Python and runs every cell from top to bottom until it encounters an exception of some kind.  It will stop after running the cell below and outputing a summary of how many answers you have correct or incorrect.\n"
      ]
    },
    {
      "cell_type": "code",
      "execution_count": 11,
      "metadata": {
        "id": "kLB4LXcKnpMn",
        "outputId": "317209b9-d1d3-4114-d628-3b96d1b5f482",
        "colab": {
          "base_uri": "https://localhost:8080/"
        }
      },
      "outputs": [
        {
          "output_type": "stream",
          "name": "stdout",
          "text": [
            "Question 21.1 is CORRECT\n",
            "Question 21.2 is CORRECT\n",
            "Question 21.3 is CORRECT\n",
            "Question 21.4 is CORRECT\n",
            "Question 22.1 is CORRECT\n",
            "Question 22.2 is CORRECT\n",
            "Question 23.1 is CORRECT\n",
            "Question 23.2 is CORRECT\n",
            "Question 24.1 is CORRECT\n",
            "Question 24.2 is CORRECT\n"
          ]
        }
      ],
      "source": [
        "import pickle\n",
        "\n",
        "data = b'\\x80\\x04\\x95o\\x00\\x00\\x00\\x00\\x00\\x00\\x00}\\x94(\\x8c\\x0421.1\\x94\\x8c\\x01A\\x94\\x8c\\x0421.2\\x94]\\x94(h\\x02\\x8c\\x01C\\x94\\x8c\\x01D\\x94e\\x8c\\x0421.3\\x94h\\x02\\x8c\\x0421.4\\x94\\x8c\\x01B\\x94\\x8c\\x0422.1\\x94h\\x06\\x8c\\x0422.2\\x94h\\x02\\x8c\\x0423.1\\x94h\\x05\\x8c\\x0423.2\\x94h\\x06\\x8c\\x0424.1\\x94h\\x05\\x8c\\x0424.2\\x94h\\tu.'\n",
        "result = pickle.loads(data)\n",
        "\n",
        "for key in result:\n",
        "  if answers[key] == result[key]:\n",
        "    print(f\"Question {key} is CORRECT\")\n",
        "  else:\n",
        "    print(f\"Question {key} is INCORRECT\")"
      ]
    },
    {
      "cell_type": "markdown",
      "metadata": {
        "id": "kJiADr-RnpMq"
      },
      "source": [
        "---\n",
        "\n",
        "## Check your work above\n",
        "\n",
        "If you didn't get them all correct, take a few minutes to think through those that aren't correct.\n",
        "\n",
        "\n",
        "## Submitting Your Work\n",
        "\n",
        "In order to submit your work, you'll need to save this notebook file back to GitHub.  To do that in Google Colab:\n",
        "1. File -> Save a Copy in GitHub\n",
        "2. Make sure your HDS5210 repository is selected\n",
        "3. Make sure the file name includes the week number like this: `week02/week02_assignment_1.ipynb`\n",
        "4. Add a commit message that means something\n",
        "\n",
        "**Be sure week names are lowercase and use a two digit week number!!**\n",
        "\n",
        "**Be sure you use the same file name provided by the instructor!!**\n",
        "\n"
      ]
    }
  ],
  "metadata": {
    "celltoolbar": "Create Assignment",
    "kernelspec": {
      "display_name": "Python 3 (ipykernel)",
      "language": "python",
      "name": "python3"
    },
    "language_info": {
      "codemirror_mode": {
        "name": "ipython",
        "version": 3
      },
      "file_extension": ".py",
      "mimetype": "text/x-python",
      "name": "python",
      "nbconvert_exporter": "python",
      "pygments_lexer": "ipython3",
      "version": "3.12.6"
    },
    "colab": {
      "provenance": []
    }
  },
  "nbformat": 4,
  "nbformat_minor": 0
}