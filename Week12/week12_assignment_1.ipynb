{
  "cells": [
    {
      "cell_type": "markdown",
      "metadata": {
        "id": "tQbCfH-gkXxq"
      },
      "source": [
        "# Week 12 Assignment"
      ]
    },
    {
      "cell_type": "markdown",
      "metadata": {
        "id": "0OQti_IekXxu"
      },
      "source": [
        "This week's content was all about working with Pandas dataframes in a few new ways: managing duplicate rows, filtering, replacing information, creating derived fields, and working with datetime data.\n",
        "\n",
        "Test your knowledge of the content from the lectures through the multiple choice questions below.\n",
        "\n",
        "---\n",
        "---"
      ]
    },
    {
      "cell_type": "markdown",
      "metadata": {
        "id": "lHr6RSL9kXxu"
      },
      "source": [
        "### 42.1 Which of these ways will show you a unique list of values from a column in a dataframe?  \n",
        "\n",
        "Some options might show the unique list and additional information like how many times each appears.  Include those in your answer, too.\n",
        "\n",
        "> A) `df['my field'].unique()`\n",
        ">\n",
        "> B) `df['my field'].value_counts()`\n",
        ">\n",
        "> C) `df['my_field'].keys()`\n",
        ">\n",
        "> D) None of these"
      ]
    },
    {
      "cell_type": "code",
      "execution_count": 1,
      "metadata": {
        "id": "S47TdBjtkXxv"
      },
      "outputs": [],
      "source": [
        "answers = {}\n",
        "answers['42.1'] = [\"A\",\"B\"]"
      ]
    },
    {
      "cell_type": "markdown",
      "metadata": {
        "id": "66ywKxIRkXxw"
      },
      "source": [
        "### 42.2 Value Counts of Value Counts?\n",
        "\n",
        "What is the best description for the following line of code do?\n",
        "\n",
        "```python\n",
        "df['my field'].value_counts().value_counts()\n",
        "```\n",
        "\n",
        "> A) This will return a list of all values in **my field** and how many times each value appears in the dataframe\n",
        ">\n",
        "> B) This will return an error\n",
        ">\n",
        "> C) If this list returns one result and it has a `1` in the first position, then we know **my field** is a unique list\n",
        ">\n",
        "> D) This will return a list of all the values in **my field** that appear only once"
      ]
    },
    {
      "cell_type": "code",
      "execution_count": 2,
      "metadata": {
        "id": "go66cC4FkXxx"
      },
      "outputs": [],
      "source": [
        "answers['42.2'] = \"C\""
      ]
    },
    {
      "cell_type": "markdown",
      "metadata": {
        "id": "hez4pnkhkXxx"
      },
      "source": [
        "### 42.3 The results of a pandas dataframe groupby() can only calculate min, max, and avg\n",
        "\n",
        "> A) True\n",
        ">\n",
        "> B) False\n"
      ]
    },
    {
      "cell_type": "code",
      "execution_count": 3,
      "metadata": {
        "id": "Dj_rD6M8kXxx"
      },
      "outputs": [],
      "source": [
        "answers['42.3'] = \"B\""
      ]
    },
    {
      "cell_type": "markdown",
      "metadata": {
        "id": "I__BZnGokXxy"
      },
      "source": [
        "### 43.1 Which is the proper way to combine two filters so that the only rows returned are rows where both conditions are true?\n",
        "\n",
        "> A) `(df['diabetes_risk'] > 4) and (df['hf_risk'] > 4)`\n",
        ">\n",
        "> B) `(df['diabetes_risk'] > 4) & (df['hf_risk'] > 4)`\n",
        ">\n",
        "> C) `(df['diabetes_risk'] and df['hf_risk'] > 4)`\n",
        ">\n",
        "> D) `(df['diabetes_risk'] & df['hf_risk']) > 4`"
      ]
    },
    {
      "cell_type": "code",
      "execution_count": 4,
      "metadata": {
        "id": "BVzM-lqGkXxz"
      },
      "outputs": [],
      "source": [
        "answers['43.1'] = \"B\""
      ]
    },
    {
      "cell_type": "markdown",
      "metadata": {
        "id": "JL5xih_UkXxz"
      },
      "source": [
        "### 43.2 Pandas can only filter on one column at a time\n",
        "\n",
        "> A) True\n",
        ">\n",
        "> B) False\n"
      ]
    },
    {
      "cell_type": "code",
      "execution_count": 5,
      "metadata": {
        "id": "a1rQ0XOnkXx0"
      },
      "outputs": [],
      "source": [
        "answers['43.2'] = \"B\""
      ]
    },
    {
      "cell_type": "markdown",
      "metadata": {
        "id": "nBbwTdJdkXx0"
      },
      "source": [
        "### 44.1 What is the most correct definition of interpolation?\n",
        "\n",
        "> A) Interpolation is a statistical data investigation conducted by Interpol\n",
        ">\n",
        "> B) Interpolation is a series of techniques for filling in missing data in the midst of your data set\n",
        ">\n",
        "> C) Interpolation is the application of statistical methods to predict data beyond the boundaries of your data set\n",
        ">\n",
        "> D) Interpolation is never a good idea"
      ]
    },
    {
      "cell_type": "code",
      "execution_count": 6,
      "metadata": {
        "id": "G-hPtDYnkXx0"
      },
      "outputs": [],
      "source": [
        "answers['44.1'] = \"B\""
      ]
    },
    {
      "cell_type": "markdown",
      "metadata": {
        "id": "OZIWsNjGkXx1"
      },
      "source": [
        "### 44.2 How are typical string functions (like lower()) applied to a dataframe column?\n",
        "\n",
        "> A) `df['my field'].lower()`\n",
        ">\n",
        "> B) `lower(df['my field')`\n",
        ">\n",
        "> C) `str.lower(df['my field'])`\n",
        ">\n",
        "> D) `df['my field'].str.lower()`"
      ]
    },
    {
      "cell_type": "code",
      "execution_count": 7,
      "metadata": {
        "id": "3tYc8zaFkXx1"
      },
      "outputs": [],
      "source": [
        "answers['44.2'] = \"D\""
      ]
    },
    {
      "cell_type": "markdown",
      "metadata": {
        "id": "yjuPNBlSkXx1"
      },
      "source": [
        "### 45.1 Which method is used to apply an arbitrary function to the columns of a dataframe?\n",
        "\n",
        "> A) `df[['col1','col2']].apply(fcn, axis=1)`\n",
        ">\n",
        "> B) `df[['col1','col2']].map(fcn)`\n",
        ">\n",
        "> C) `df.fnc(['col1','col2'])`\n",
        ">\n",
        "> D) This is not possible"
      ]
    },
    {
      "cell_type": "code",
      "execution_count": 8,
      "metadata": {
        "id": "gXQSXBuQkXx1"
      },
      "outputs": [],
      "source": [
        "answers['45.1'] = \"A\""
      ]
    },
    {
      "cell_type": "markdown",
      "metadata": {
        "id": "Ft_ZueNJkXx2"
      },
      "source": [
        "### 46.1 If you store date information as a string, what is the best format to use?\n",
        "\n",
        "> A) Apr 2, 2021\n",
        ">\n",
        "> B) 2021-04-02\n",
        ">\n",
        "> C) 4/2/21\n",
        ">\n",
        "> D) 2/4/21"
      ]
    },
    {
      "cell_type": "code",
      "execution_count": 9,
      "metadata": {
        "id": "HT3aItplkXx2"
      },
      "outputs": [],
      "source": [
        "answers['46.1'] = \"B\""
      ]
    },
    {
      "cell_type": "markdown",
      "metadata": {
        "id": "QBGGNjSCkXx2"
      },
      "source": [
        "---\n",
        "\n",
        "Checking Your Work\n",
        "---\n",
        "\n",
        "After completing your work above and running each cell, you can check your answers by running the code below.\n",
        "\n",
        "The easiest way to do this is to use the `Kernel` -> `Restart Kernel and Run All Cells` menu option. This option restarts Python and runs every cell from top to bottom until it encounters an exception of some kind.  It will stop after running the cell below and outputing a summary of how many answers you have correct or incorrect.\n"
      ]
    },
    {
      "cell_type": "code",
      "execution_count": 10,
      "metadata": {
        "id": "ZcZ5tF1dkXx2",
        "outputId": "54f28c35-56b9-4fde-d173-46fe4d971435",
        "colab": {
          "base_uri": "https://localhost:8080/"
        }
      },
      "outputs": [
        {
          "output_type": "stream",
          "name": "stdout",
          "text": [
            "Question 42.1 is CORRECT\n",
            "Question 42.2 is CORRECT\n",
            "Question 42.3 is CORRECT\n",
            "Question 43.1 is CORRECT\n",
            "Question 43.2 is CORRECT\n",
            "Question 44.1 is CORRECT\n",
            "Question 44.2 is CORRECT\n",
            "Question 45.1 is CORRECT\n",
            "Question 46.1 is CORRECT\n"
          ]
        }
      ],
      "source": [
        "import pickle\n",
        "\n",
        "data = b'\\x80\\x04\\x95d\\x00\\x00\\x00\\x00\\x00\\x00\\x00}\\x94(\\x8c\\x0442.1\\x94]\\x94(\\x8c\\x01A\\x94\\x8c\\x01B\\x94e\\x8c\\x0442.2\\x94\\x8c\\x01C\\x94\\x8c\\x0442.3\\x94h\\x04\\x8c\\x0443.1\\x94h\\x04\\x8c\\x0443.2\\x94h\\x04\\x8c\\x0444.1\\x94h\\x04\\x8c\\x0444.2\\x94\\x8c\\x01D\\x94\\x8c\\x0445.1\\x94h\\x03\\x8c\\x0446.1\\x94h\\x04u.'\n",
        "result = pickle.loads(data)\n",
        "\n",
        "for key in result:\n",
        "  if answers[key] == result[key]:\n",
        "    print(f\"Question {key} is CORRECT\")\n",
        "  else:\n",
        "    print(f\"Question {key} is INCORRECT\")"
      ]
    }
  ],
  "metadata": {
    "kernelspec": {
      "display_name": "Python 3 (ipykernel)",
      "language": "python",
      "name": "python3"
    },
    "language_info": {
      "codemirror_mode": {
        "name": "ipython",
        "version": 3
      },
      "file_extension": ".py",
      "mimetype": "text/x-python",
      "name": "python",
      "nbconvert_exporter": "python",
      "pygments_lexer": "ipython3",
      "version": "3.13.0"
    },
    "colab": {
      "provenance": []
    }
  },
  "nbformat": 4,
  "nbformat_minor": 0
}