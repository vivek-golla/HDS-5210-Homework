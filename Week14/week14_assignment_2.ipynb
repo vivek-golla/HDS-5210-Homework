{
  "cells": [
    {
      "cell_type": "markdown",
      "metadata": {
        "nbgrader": {
          "grade": false,
          "grade_id": "cell-fc1c39d0d6f8b82a",
          "locked": true,
          "schema_version": 1,
          "solution": false
        },
        "id": "PzJ-spJNx92X"
      },
      "source": [
        "# Week 14 Programming Assignment\n",
        "\n",
        "As you're working on identifying data for your final project, it's helpful to spend some time exploring your various data files.  For this week's assignment, I'd like you to take a few of the ideas from the the lectures, review assignment, and tonight's lecture to start exploring the data you plan to use for the final project.\n",
        "\n",
        "For the following activities, you can use just one of the data files that you've identified, or you can do the activities using different data files.  That's up to you.  Please describe what you're doing in a Markdown cell or in the comments of your code.  When you've completed the assignment, submit it as normal."
      ]
    },
    {
      "cell_type": "markdown",
      "metadata": {
        "id": "9A2MusZDx92g"
      },
      "source": [
        "### 1. Basic Statistics\n",
        "\n",
        "Use Python to read in your data file and show many rows and columns your data has."
      ]
    },
    {
      "cell_type": "code",
      "execution_count": 43,
      "metadata": {
        "colab": {
          "base_uri": "https://localhost:8080/"
        },
        "id": "4QsZHnphx92i",
        "outputId": "f043542d-634a-40ac-ca81-1894df2100d2"
      },
      "outputs": [
        {
          "output_type": "execute_result",
          "data": {
            "text/plain": [
              "(3168, 12)"
            ]
          },
          "metadata": {},
          "execution_count": 43
        }
      ],
      "source": [
        "import pandas as pd\n",
        "\n",
        "#using read_csv() function to read in my local data file\n",
        "df = pd.read_csv('/content/217795A_ALL_LATEST.csv')\n",
        "#i am using shape function to get column and row count\n",
        "df.shape"
      ]
    },
    {
      "cell_type": "markdown",
      "metadata": {
        "id": "4bF2qb6vx92j"
      },
      "source": [
        "### 2. Data Diversity\n",
        "\n",
        "Use Python to identify how many unique values each column in your data has.  Use Python to identify which column has the greatest number of distinct values (aka the most diversity)?  If your data has a unique identifier (e.g. a person or visit or record ID) then find the column with the next most number of unique values."
      ]
    },
    {
      "cell_type": "code",
      "execution_count": 44,
      "metadata": {
        "colab": {
          "base_uri": "https://localhost:8080/"
        },
        "id": "f5cZKmpyx92k",
        "outputId": "fb059848-e035-4792-9180-cc40dab4ddcf"
      },
      "outputs": [
        {
          "output_type": "stream",
          "name": "stdout",
          "text": [
            "{'IND_ID': 1, 'IND_CODE': 1, 'IND_UUID': 1, 'IND_PER_CODE': 1, 'DIM_TIME': 33, 'DIM_TIME_TYPE': 1, 'DIM_GEO_CODE_M49': 208, 'DIM_GEO_CODE_TYPE': 7, 'DIM_PUBLISH_STATE_CODE': 1, 'IND_NAME': 1, 'GEO_NAME_SHORT': 208, 'RATE_PER_10000_N': 3024}\n",
            "column with most uniques is RATE_PER_10000_N\n"
          ]
        }
      ],
      "source": [
        "#unique values from length of the groupby object, using count as the aggregation function\n",
        "uniques = {}\n",
        "for column in df.columns:\n",
        "  uniques[column] = len(df.groupby(column).count())\n",
        "\n",
        "print(uniques)\n",
        "#got the max value using max() function and printed the associated column\n",
        "most_unique_column = max(uniques, key=uniques.get)\n",
        "print('column with most uniques is', most_unique_column)"
      ]
    },
    {
      "cell_type": "markdown",
      "metadata": {
        "id": "GLDLaiDTx92k"
      },
      "source": [
        "### 3. Data Redundancy\n",
        "\n",
        "Use Python to identify any columns in your data where the value for every row is the same.  For example, if you had a gender column and all the rows said 'M', then you would want to write the code that helped you determine that."
      ]
    },
    {
      "cell_type": "code",
      "execution_count": 45,
      "metadata": {
        "colab": {
          "base_uri": "https://localhost:8080/"
        },
        "id": "cn2fEC8-x92l",
        "outputId": "f7deeeba-6162-48eb-a111-4a1a34068ed8"
      },
      "outputs": [
        {
          "output_type": "stream",
          "name": "stdout",
          "text": [
            "{'IND_ID': 1, 'IND_CODE': 1, 'IND_UUID': 1, 'IND_PER_CODE': 1, 'DIM_TIME_TYPE': 1, 'DIM_PUBLISH_STATE_CODE': 1, 'IND_NAME': 1}\n"
          ]
        }
      ],
      "source": [
        "#initializing a redundant columns dictionary\n",
        "redundant_columns = {}\n",
        "#looped over all columns and chose only those which have only one unique value for each column\n",
        "for column in df.columns:\n",
        "  if len(df.groupby(column).count()) == 1:\n",
        "    redundant_columns[column] = len(df.groupby(column).count())\n",
        "#printing output\n",
        "print(redundant_columns)"
      ]
    },
    {
      "cell_type": "markdown",
      "metadata": {
        "id": "IZ2gZ62qx92m"
      },
      "source": [
        "### 4. Range of Values\n",
        "\n",
        "Your data almost certainly has some numeric columns that can be summed or averaged.  Create a histogram that shows the distribution of values for this column."
      ]
    },
    {
      "cell_type": "code",
      "execution_count": 46,
      "metadata": {
        "colab": {
          "base_uri": "https://localhost:8080/",
          "height": 447
        },
        "id": "GDv6roZWx92m",
        "outputId": "9a8ad415-b674-4a27-8eda-7f2f16950040"
      },
      "outputs": [
        {
          "output_type": "execute_result",
          "data": {
            "text/plain": [
              "<Axes: >"
            ]
          },
          "metadata": {},
          "execution_count": 46
        },
        {
          "output_type": "display_data",
          "data": {
            "text/plain": [
              "<Figure size 640x480 with 1 Axes>"
            ],
            "image/png": "[encoded data removed]"
          },
          "metadata": {}
        }
      ],
      "source": [
        "#using the rate_per_10000_N column from the data, which represents the rate per 10000 people of physicians in a given country.\n",
        "df['RATE_PER_10000_N'].hist()"
      ]
    },
    {
      "cell_type": "markdown",
      "source": [
        "The graph shows a right-skewed histogram, with the majority of values falling below 40."
      ],
      "metadata": {
        "id": "eEiOQCIUWdwW"
      }
    },
    {
      "cell_type": "markdown",
      "metadata": {
        "id": "W_8iHInCx92n"
      },
      "source": [
        "### 5. Discussion\n",
        "\n",
        "Do any additional exploration of this data that you think may be interesting and include your code here.  Then go onto Slack and make a post about what you've observed.  Share your observation.  Share your code, if you like.  Share a screenshot of the data or a chart based on the data.\n",
        "\n",
        "Then comment on at least two other people's observations that they share on Slack.  (Use the reply as thread option in Slack to keep the conversation organized.)"
      ]
    },
    {
      "cell_type": "code",
      "execution_count": 48,
      "metadata": {
        "colab": {
          "base_uri": "https://localhost:8080/",
          "height": 762
        },
        "id": "A3otfJBsx92n",
        "outputId": "29f6ba01-f5ec-4fbb-c402-1da6c5a8caf3"
      },
      "outputs": [
        {
          "output_type": "stream",
          "name": "stdout",
          "text": [
            "GEO_NAME_SHORT\n",
            "Monaco        81.256286\n",
            "Croatia       67.348800\n",
            "Cuba          66.632833\n",
            "Belgium       63.932000\n",
            "Greece        54.537000\n",
            "San Marino    51.667000\n",
            "Georgia       51.436150\n",
            "Portugal      49.310545\n",
            "Austria       48.509095\n",
            "Uruguay       46.995000\n",
            "Name: RATE_PER_10000_N, dtype: float64\n"
          ]
        },
        {
          "output_type": "execute_result",
          "data": {
            "text/plain": [
              "<Axes: title={'center': 'Countries with highest physician density rate'}, xlabel='Country', ylabel='Physician density rate'>"
            ]
          },
          "metadata": {},
          "execution_count": 48
        },
        {
          "output_type": "display_data",
          "data": {
            "text/plain": [
              "<Figure size 640x480 with 1 Axes>"
            ],
            "image/png": "[encoded data removed]"
          },
          "metadata": {}
        }
      ],
      "source": [
        "#first I group by country and find the mean value of physician density rate, then sort by descending to get the top 10 countries with highest rate.\n",
        "df_high = df[df['RATE_PER_10000_N'] >= 40].groupby('GEO_NAME_SHORT')['RATE_PER_10000_N'].mean().sort_values(ascending=False).head(10)\n",
        "print(df_high)\n",
        "#finally representing the data in a simple bar plot for visualization purposes\n",
        "ax = df_high.plot.bar(x='GEO_NAME_SHORT', y='RATE_PER_10000_N')\n",
        "ax.set_title(\"Countries with highest physician density rate\")\n",
        "ax.set_xlabel(\"Country\")\n",
        "ax.set_ylabel(\"Physician density rate\")\n",
        "ax"
      ]
    },
    {
      "cell_type": "markdown",
      "metadata": {
        "id": "pFcYCYiax92o"
      },
      "source": [
        "\n",
        "\n",
        "---\n",
        "\n",
        "\n",
        "\n",
        "## Submitting Your Work\n",
        "\n",
        "Submit your work as usual."
      ]
    },
    {
      "cell_type": "code",
      "execution_count": 47,
      "metadata": {
        "id": "nJQsTgBsx92o"
      },
      "outputs": [],
      "source": []
    }
  ],
  "metadata": {
    "celltoolbar": "Create Assignment",
    "kernelspec": {
      "display_name": "Python 3",
      "language": "python",
      "name": "python3"
    },
    "language_info": {
      "codemirror_mode": {
        "name": "ipython",
        "version": 3
      },
      "file_extension": ".py",
      "mimetype": "text/x-python",
      "name": "python",
      "nbconvert_exporter": "python",
      "pygments_lexer": "ipython3",
      "version": "3.6.7"
    },
    "colab": {
      "provenance": []
    }
  },
  "nbformat": 4,
  "nbformat_minor": 0
}