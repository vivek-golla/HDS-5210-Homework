{
  "nbformat": 4,
  "nbformat_minor": 0,
  "metadata": {
    "colab": {
      "provenance": [],
      "authorship_tag": "ABX9TyM3+Ra4WBG923aL74tIgAcq"
    },
    "kernelspec": {
      "name": "python3",
      "display_name": "Python 3"
    },
    "language_info": {
      "name": "python"
    }
  },
  "cells": [
    {
      "cell_type": "markdown",
      "source": [
        "#Project Explanation\n",
        "##subheading"
      ],
      "metadata": {
        "id": "n0XrLWsikRCg"
      }
    },
    {
      "cell_type": "code",
      "source": [
        "#importing all libraries that I will need for this project\n",
        "import pandas as pd\n",
        "import numpy as np\n",
        "import seaborn as sns\n",
        "import matplotlib.pyplot as plt"
      ],
      "metadata": {
        "id": "JDU-RpvfkQs5"
      },
      "execution_count": 1,
      "outputs": []
    },
    {
      "cell_type": "code",
      "execution_count": 2,
      "metadata": {
        "colab": {
          "base_uri": "https://localhost:8080/"
        },
        "id": "yqQwC4gNkM9c",
        "outputId": "1451da6e-969f-4d0c-af10-e726597c0bfc"
      },
      "outputs": [
        {
          "output_type": "stream",
          "name": "stdout",
          "text": [
            "rows, cols (3168, 12)\n",
            "            IND_ID  IND_CODE IND_UUID IND_PER_CODE  DIM_TIME DIM_TIME_TYPE  \\\n",
            "0  217795AHWF_0001  HWF_0001  217795A     HWF_0001      2006          YEAR   \n",
            "1  217795AHWF_0001  HWF_0001  217795A     HWF_0001      2012          YEAR   \n",
            "2  217795AHWF_0001  HWF_0001  217795A     HWF_0001      2020          YEAR   \n",
            "3  217795AHWF_0001  HWF_0001  217795A     HWF_0001      2016          YEAR   \n",
            "4  217795AHWF_0001  HWF_0001  217795A     HWF_0001      2018          YEAR   \n",
            "\n",
            "   DIM_GEO_CODE_M49 DIM_GEO_CODE_TYPE DIM_PUBLISH_STATE_CODE  \\\n",
            "0               826           COUNTRY              PUBLISHED   \n",
            "1               558           COUNTRY              PUBLISHED   \n",
            "2               608           COUNTRY              PUBLISHED   \n",
            "3               620           COUNTRY              PUBLISHED   \n",
            "4               620           COUNTRY              PUBLISHED   \n",
            "\n",
            "             IND_NAME                                     GEO_NAME_SHORT  \\\n",
            "0  Density of doctors  United Kingdom of Great Britain and Northern I...   \n",
            "1  Density of doctors                                          Nicaragua   \n",
            "2  Density of doctors                                        Philippines   \n",
            "3  Density of doctors                                           Portugal   \n",
            "4  Density of doctors                                           Portugal   \n",
            "\n",
            "   RATE_PER_10000_N  \n",
            "0            24.597  \n",
            "1             8.536  \n",
            "2             7.515  \n",
            "3            49.362  \n",
            "4            52.944  \n",
            "          DIM_TIME  DIM_GEO_CODE_M49  RATE_PER_10000_N\n",
            "count  3168.000000       3168.000000       3168.000000\n",
            "mean   2008.156881        427.738321         21.202623\n",
            "std       8.782554        251.342806         15.148733\n",
            "min    1990.000000          1.000000          0.125000\n",
            "25%    2002.000000        204.000000          7.729000\n",
            "50%    2009.000000        422.000000         21.397000\n",
            "75%    2016.000000        642.000000         32.411000\n",
            "max    2022.000000        958.000000         94.285000\n"
          ]
        }
      ],
      "source": [
        "#internet file - WHO Data Density of physicians (per 10 000 population) [CSV]\n",
        "#reading from internet using read_csv function\n",
        "density = pd.read_csv('https://srhdpeuwpubsa.blob.core.windows.net/whdh/DATADOT/INDICATOR/217795A_ALL_LATEST.csv')\n",
        "density.head()\n",
        "\n",
        "#data exploration\n",
        "print('rows, cols', density.shape)\n",
        "print(density.head())\n",
        "print(density.describe())\n",
        "\n",
        "#transforming data\n",
        "#subsetting to only certain years to align with other datasets\n",
        "density = density[density[\"DIM_TIME\"].isin([\"2015\",\"2016\",\"2017\"])]\n"
      ]
    },
    {
      "cell_type": "code",
      "source": [
        "#local file - World Bank Group World Development Indicators [Tab-Delimited Text File]\n",
        "wdi = pd.read_csv('/content/7f00b99d-25a1-442f-88e1-966fddb29125_Data.txt', sep='\\t')\n",
        "#data exploration\n",
        "print('rows, cols', wdi.shape)\n",
        "print(wdi.head())\n",
        "print(wdi.describe())\n"
      ],
      "metadata": {
        "colab": {
          "base_uri": "https://localhost:8080/"
        },
        "id": "3g_FyRQqo_hK",
        "outputId": "8f5557bf-6779-406a-922f-ff41c31c18a5"
      },
      "execution_count": 3,
      "outputs": [
        {
          "output_type": "stream",
          "name": "stdout",
          "text": [
            "rows, cols (537, 7)\n",
            "                                         Series Name     Series Code  \\\n",
            "0  Births attended by skilled health staff (% of ...  SH.STA.BRTC.ZS   \n",
            "1  Births attended by skilled health staff (% of ...  SH.STA.BRTC.ZS   \n",
            "2  Births attended by skilled health staff (% of ...  SH.STA.BRTC.ZS   \n",
            "3  Births attended by skilled health staff (% of ...  SH.STA.BRTC.ZS   \n",
            "4  Births attended by skilled health staff (% of ...  SH.STA.BRTC.ZS   \n",
            "\n",
            "     Country Name Country Code 2015 [YR2015] 2016 [YR2016] 2017 [YR2017]  \n",
            "0     Afghanistan          AFG          50.5            ..          53.4  \n",
            "1         Albania          ALB            ..            ..            ..  \n",
            "2         Algeria          DZA            ..            ..            ..  \n",
            "3  American Samoa          ASM            ..            ..            ..  \n",
            "4         Andorra          AND           100           100           100  \n",
            "                                              Series Name     Series Code  \\\n",
            "count                                                 534             532   \n",
            "unique                                                  4               2   \n",
            "top     Births attended by skilled health staff (% of ...  SH.STA.BRTC.ZS   \n",
            "freq                                                  266             266   \n",
            "\n",
            "       Country Name Country Code 2015 [YR2015] 2016 [YR2016] 2017 [YR2017]  \n",
            "count           532          532           532           532           532  \n",
            "unique          266          266           303           309           303  \n",
            "top     Afghanistan          AFG            ..            ..            ..  \n",
            "freq              2            2           173           173           179  \n"
          ]
        }
      ]
    },
    {
      "cell_type": "code",
      "source": [
        "#local file - OECD Healthcare Coverage Data - Selected Dates [CSV]\n",
        "oecd = pd.read_csv('/content/OECD.ELS.HD,DSD_HEALTH_PROT@DF_HEALTH_PROT,1.0+.A..PT_POP.COVGCMED+TPRIBASI.csv')\n",
        "#data exploration\n",
        "print('rows, cols', oecd.shape)\n",
        "print(oecd.head())\n",
        "print(oecd.describe())\n",
        "\n"
      ],
      "metadata": {
        "colab": {
          "base_uri": "https://localhost:8080/"
        },
        "id": "Z6jk2ktRHfWL",
        "outputId": "01311931-96f7-4207-e224-f4c0a425d77d"
      },
      "execution_count": 4,
      "outputs": [
        {
          "output_type": "stream",
          "name": "stdout",
          "text": [
            "rows, cols (232, 24)\n",
            "  STRUCTURE                                     STRUCTURE_ID  \\\n",
            "0  DATAFLOW  OECD.ELS.HD:DSD_HEALTH_PROT@DF_HEALTH_PROT(1.0)   \n",
            "1  DATAFLOW  OECD.ELS.HD:DSD_HEALTH_PROT@DF_HEALTH_PROT(1.0)   \n",
            "2  DATAFLOW  OECD.ELS.HD:DSD_HEALTH_PROT@DF_HEALTH_PROT(1.0)   \n",
            "3  DATAFLOW  OECD.ELS.HD:DSD_HEALTH_PROT@DF_HEALTH_PROT(1.0)   \n",
            "4  DATAFLOW  OECD.ELS.HD:DSD_HEALTH_PROT@DF_HEALTH_PROT(1.0)   \n",
            "\n",
            "        STRUCTURE_NAME ACTION REF_AREA Reference area FREQ  \\\n",
            "0  Healthcare coverage      I      NLD    Netherlands    A   \n",
            "1  Healthcare coverage      I      NLD    Netherlands    A   \n",
            "2  Healthcare coverage      I      NLD    Netherlands    A   \n",
            "3  Healthcare coverage      I      EST        Estonia    A   \n",
            "4  Healthcare coverage      I      EST        Estonia    A   \n",
            "\n",
            "  Frequency of observation MEASURE                    Measure  ...  \\\n",
            "0                   Annual     HIC  Health insurance coverage  ...   \n",
            "1                   Annual     HIC  Health insurance coverage  ...   \n",
            "2                   Annual     HIC  Health insurance coverage  ...   \n",
            "3                   Annual     HIC  Health insurance coverage  ...   \n",
            "4                   Annual     HIC  Health insurance coverage  ...   \n",
            "\n",
            "  TIME_PERIOD Time period OBS_VALUE Observation value  OBS_STATUS  \\\n",
            "0        2015         NaN      99.8               NaN           E   \n",
            "1        2016         NaN      99.9               NaN           E   \n",
            "2        2017         NaN      99.9               NaN           E   \n",
            "3        2015         NaN      94.0               NaN           A   \n",
            "4        2016         NaN      94.0               NaN           A   \n",
            "\n",
            "   Observation status  UNIT_MULT  Unit multiplier DECIMALS Decimals  \n",
            "0     Estimated value          0            Units      NaN      NaN  \n",
            "1     Estimated value          0            Units      NaN      NaN  \n",
            "2     Estimated value          0            Units      NaN      NaN  \n",
            "3        Normal value          0            Units      NaN      NaN  \n",
            "4        Normal value          0            Units      NaN      NaN  \n",
            "\n",
            "[5 rows x 24 columns]\n",
            "       TIME_PERIOD  Time period   OBS_VALUE  Observation value  UNIT_MULT  \\\n",
            "count   232.000000          0.0  232.000000                0.0      232.0   \n",
            "mean   2016.034483          NaN   96.586207                NaN        0.0   \n",
            "std       0.821054          NaN    8.313051                NaN        0.0   \n",
            "min    2015.000000          NaN   35.600000                NaN        0.0   \n",
            "25%    2015.000000          NaN   94.900000                NaN        0.0   \n",
            "50%    2016.000000          NaN  100.000000                NaN        0.0   \n",
            "75%    2017.000000          NaN  100.000000                NaN        0.0   \n",
            "max    2017.000000          NaN  100.000000                NaN        0.0   \n",
            "\n",
            "       DECIMALS  Decimals  \n",
            "count       0.0       0.0  \n",
            "mean        NaN       NaN  \n",
            "std         NaN       NaN  \n",
            "min         NaN       NaN  \n",
            "25%         NaN       NaN  \n",
            "50%         NaN       NaN  \n",
            "75%         NaN       NaN  \n",
            "max         NaN       NaN  \n"
          ]
        }
      ]
    }
  ]
}