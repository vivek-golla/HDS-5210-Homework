{
  "cells": [
    {
      "cell_type": "markdown",
      "metadata": {
        "nbgrader": {
          "grade": false,
          "grade_id": "intro",
          "locked": true,
          "schema_version": 1,
          "solution": false
        },
        "id": "dTu4E8--yeBj"
      },
      "source": [
        "# Week 4 Exercises\n",
        "\n",
        "_modules 13-15_\n",
        "\n",
        "_See also [documentation on standard data types](https://docs.python.org/3/library/stdtypes.html)_\n",
        "\n",
        "Modules 13 through 15 have all been about different built-in data types that can be used to create larger and more complex data structures.  We learned about tuples, lists, dictionaries, and how to access and process that data in new ways.\n",
        "\n",
        "\n",
        "\n",
        "Do not change anything else or add any other code to this notebook. If you need to do scratch work to determine an answer, create a new notebook and do your work there.\n",
        "\n",
        "---\n",
        "---"
      ]
    },
    {
      "cell_type": "markdown",
      "metadata": {
        "id": "FmiMGmucyeBl"
      },
      "source": [
        "### 13.1 Which of the following statements are true?\n",
        "\n",
        "Placeholders for two answers are provided, but there may be more correction options.\n",
        "> A) The elements in both Tuples and Lists have a specific order\n",
        ">\n",
        "> B) Tuples and Lists can both be nested\n",
        ">\n",
        "> C) A Tuple can be concatenated to another Tuple using the `+` operator\n",
        ">\n",
        "> D) Tuples and Lists can both have items appended to their ends\n",
        "\n"
      ]
    },
    {
      "cell_type": "code",
      "execution_count": 1,
      "metadata": {
        "id": "7rHORat8yeBl"
      },
      "outputs": [],
      "source": [
        "answers = {}\n",
        "answers[\"13.1\"] = [\"A\", \"B\",\"C\"]"
      ]
    },
    {
      "cell_type": "markdown",
      "metadata": {
        "id": "NjztUM69yeBm"
      },
      "source": [
        "### 13.2 What does this code output?\n",
        "\n",
        "```python\n",
        "(a, b) = ('First', 'Second')\n",
        "(b, a) = (a, b)\n",
        "print(b)\n",
        "```\n",
        "\n",
        "> A) `First`\n",
        ">\n",
        "> B) `Second`\n",
        ">\n",
        "> C) `('First', 'Second')`\n",
        ">\n",
        "> D) _nothing_"
      ]
    },
    {
      "cell_type": "code",
      "execution_count": 2,
      "metadata": {
        "id": "2Xwj6OWqyeBm"
      },
      "outputs": [],
      "source": [
        "answers[\"13.2\"] = \"A\""
      ]
    },
    {
      "cell_type": "markdown",
      "metadata": {
        "id": "Sp21TZqayeBm"
      },
      "source": [
        "### 13.3 What is the output of the following code?\n",
        "\n",
        "```python\n",
        "(a, b) = (['Paul','Alex','Linda','Kathy','Amit','Samira'], [41, 38, 30, 43, 41, 40, 34, 52])\n",
        "len(b)\n",
        "```\n",
        "\n",
        "> A) _Error_\n",
        ">\n",
        "> B) `6`\n",
        ">\n",
        "> C) `8`\n",
        ">\n",
        "> D) _None_"
      ]
    },
    {
      "cell_type": "code",
      "execution_count": 3,
      "metadata": {
        "id": "Sd1dkFKLyeBm"
      },
      "outputs": [],
      "source": [
        "answers[\"13.3\"] = \"C\""
      ]
    },
    {
      "cell_type": "markdown",
      "metadata": {
        "id": "P7fzZiGDyeBm"
      },
      "source": [
        "### 13.4 What is the output of the following code?\n",
        "\n",
        "```python\n",
        "(a, b) = (['Paul','Alex','Linda','Kathy','Amit','Samira'], [41, 38, 30, 43, 41, 40, 34, 52])\n",
        "len(a[5])\n",
        "```\n",
        "\n",
        "> A) `4`\n",
        ">\n",
        "> B) `5`\n",
        ">\n",
        "> C) `6`\n",
        ">\n",
        "> D) _None_"
      ]
    },
    {
      "cell_type": "code",
      "execution_count": 4,
      "metadata": {
        "id": "063ghsQ9yeBm"
      },
      "outputs": [],
      "source": [
        "answers[\"13.4\"] = \"C\""
      ]
    },
    {
      "cell_type": "markdown",
      "metadata": {
        "id": "hWl0f3s1yeBm"
      },
      "source": [
        "### 13.5 What is the output from the code below?\n",
        "\n",
        "```python\n",
        "dxs = [['COPD','CHF','MI'],['DVT','DBS'],['GI','CNC']]\n",
        "len(dxs[1])\n",
        "```\n",
        "\n",
        "> A) _Error_\n",
        ">\n",
        "> B) `3`\n",
        ">\n",
        "> C) `2`\n",
        ">\n",
        "> D) _None_"
      ]
    },
    {
      "cell_type": "code",
      "execution_count": 5,
      "metadata": {
        "id": "xt7aWeQayeBm"
      },
      "outputs": [],
      "source": [
        "answers[\"13.5\"] = \"C\""
      ]
    },
    {
      "cell_type": "markdown",
      "metadata": {
        "id": "JSwUyFSGyeBn"
      },
      "source": [
        "### 13.6 What will the resulting value of `vals` be?\n",
        "\n",
        "```python\n",
        "vals = [3.14, 1.41]\n",
        "vals.append([2.72])\n",
        "vals = vals + ['i']\n",
        "```\n",
        "\n",
        "> A) `[3.14, 1.41, 2.72, ['i']]`\n",
        ">\n",
        "> B) `[3.14, 1.41, [2.72], 'i']`\n",
        ">\n",
        "> C) `[3.14, 1.41, [2.72], ['i']]`\n",
        ">\n",
        "> D) `[3.14, 1.41, [2.72, 'i']`"
      ]
    },
    {
      "cell_type": "code",
      "execution_count": 6,
      "metadata": {
        "id": "QXxX0d8GyeBn"
      },
      "outputs": [],
      "source": [
        "answers[\"13.6\"] = \"B\""
      ]
    },
    {
      "cell_type": "markdown",
      "metadata": {
        "id": "7NCB7iyRyeBn"
      },
      "source": [
        "### 13.7 Which of the following statements are correct?\n",
        "\n",
        "Placeholders for two options are provided, but there may be more correct answers.\n",
        "> A) Lists can have other lists inside them\n",
        ">\n",
        "> B) When you create a list, you must specify how big it will be\n",
        ">\n",
        "> C) The items in a list do not have a specific order\n",
        ">\n",
        "> D) list.sort() will sort the list in place without creating a copy"
      ]
    },
    {
      "cell_type": "code",
      "execution_count": 7,
      "metadata": {
        "id": "-sfnZ-bdyeBn"
      },
      "outputs": [],
      "source": [
        "answers[\"13.7\"] = [\"A\", \"D\"]"
      ]
    },
    {
      "cell_type": "markdown",
      "metadata": {
        "id": "qLW-iPW2yeBn"
      },
      "source": [
        "### 14.1 When you retrieve items from a dictionary in a **for** loop, in what order are they processed?\n",
        "\n",
        "> A) An arbitary order that is the same each time as long as the dictionary doesn't change\n",
        ">\n",
        "> B) Always in ascending order\n",
        ">\n",
        "> C) Always in descending order\n",
        ">\n",
        "> D) A different order that is completely random each time"
      ]
    },
    {
      "cell_type": "code",
      "execution_count": 8,
      "metadata": {
        "id": "4IyG_cgKyeBn"
      },
      "outputs": [],
      "source": [
        "answers[\"14.1\"] = \"D\""
      ]
    },
    {
      "cell_type": "markdown",
      "metadata": {
        "id": "Zvbg6rcfyeBn"
      },
      "source": [
        "### 14.2 What data types can be used for dictionary *keys*?\n",
        "\n",
        "Two placeholders are provided, but more answers may be correct and should be included.\n",
        "> A) Strings\n",
        ">\n",
        "> B) Integers\n",
        ">\n",
        "> C) Floats\n",
        ">\n",
        "> D) Typles"
      ]
    },
    {
      "cell_type": "code",
      "execution_count": 9,
      "metadata": {
        "id": "Vd73yjmWyeBn"
      },
      "outputs": [],
      "source": [
        "answers[\"14.2\"] = [\"A\", \"B\",\"C\",\"D\"]"
      ]
    },
    {
      "cell_type": "markdown",
      "metadata": {
        "id": "4REVt9U1yeBn"
      },
      "source": [
        "### 14.3 Which of the following statements are correct?\n",
        "\n",
        "Two placeholders are provided, but more answers may be correct and should be included.\n",
        "> A) Dictionaries can contain lists\n",
        ">\n",
        "> B) Lists can contain dictionaries\n",
        ">\n",
        "> C) All dictionary keys must be strings\n",
        ">\n",
        "> D) Dictionaries can contain multiple entries for the same key"
      ]
    },
    {
      "cell_type": "code",
      "execution_count": 10,
      "metadata": {
        "id": "dEH6RlKjyeBn"
      },
      "outputs": [],
      "source": [
        "answers[\"14.3\"] = [\"A\",\"B\"]"
      ]
    },
    {
      "cell_type": "markdown",
      "metadata": {
        "id": "3RrlKxUZyeBo"
      },
      "source": [
        "### 14.4 When you enter your answers for this homework, what is the data type of the `answers` variable?\n",
        "\n",
        "> A) String\n",
        ">\n",
        "> B) Dictionary\n",
        ">\n",
        "> C) List\n",
        ">\n",
        "> D) Tuple\n"
      ]
    },
    {
      "cell_type": "code",
      "execution_count": 11,
      "metadata": {
        "id": "0MxzmwAmyeBo"
      },
      "outputs": [],
      "source": [
        "answers[\"14.4\"] = \"A\""
      ]
    },
    {
      "cell_type": "markdown",
      "metadata": {
        "id": "S8tHuGktyeBo"
      },
      "source": [
        "---\n",
        "\n",
        "Checking Your Work\n",
        "---\n",
        "\n",
        "After completing your work above and running each cell, you can check your answers by running the code below.\n",
        "\n",
        "The easiest way to do this is to use the `Kernel` -> `Restart Kernel and Run All Cells` menu option. This option restarts Python and runs every cell from top to bottom until it encounters an exception of some kind.  It will stop after running the cell below and outputing a summary of how many answers you have correct or incorrect.\n"
      ]
    },
    {
      "cell_type": "code",
      "execution_count": 12,
      "metadata": {
        "id": "OR3es04gyeBo",
        "outputId": "726f2a77-0bea-46eb-8d6d-80d0410686b2",
        "colab": {
          "base_uri": "https://localhost:8080/"
        }
      },
      "outputs": [
        {
          "output_type": "stream",
          "name": "stdout",
          "text": [
            "Question 13.1 is CORRECT\n",
            "Question 13.2 is CORRECT\n",
            "Question 13.3 is CORRECT\n",
            "Question 13.4 is CORRECT\n",
            "Question 13.5 is CORRECT\n",
            "Question 13.6 is CORRECT\n",
            "Question 13.7 is CORRECT\n",
            "Question 14.1 is CORRECT\n",
            "Question 14.2 is CORRECT\n",
            "Question 14.3 is CORRECT\n",
            "Question 14.4 is CORRECT\n"
          ]
        }
      ],
      "source": [
        "import pickle\n",
        "\n",
        "data = b'\\x80\\x04\\x95\\x8e\\x00\\x00\\x00\\x00\\x00\\x00\\x00}\\x94(\\x8c\\x0413.1\\x94]\\x94(\\x8c\\x01A\\x94\\x8c\\x01B\\x94\\x8c\\x01C\\x94e\\x8c\\x0413.2\\x94h\\x03\\x8c\\x0413.3\\x94h\\x05\\x8c\\x0413.4\\x94h\\x05\\x8c\\x0413.5\\x94h\\x05\\x8c\\x0413.6\\x94h\\x04\\x8c\\x0413.7\\x94]\\x94(h\\x03\\x8c\\x01D\\x94e\\x8c\\x0414.1\\x94h\\r\\x8c\\x0414.2\\x94]\\x94(h\\x03h\\x04h\\x05h\\re\\x8c\\x0414.3\\x94]\\x94(h\\x03h\\x04e\\x8c\\x0414.4\\x94h\\x03u.'\n",
        "result = pickle.loads(data)\n",
        "\n",
        "for key in result:\n",
        "  if answers[key] == result[key]:\n",
        "    print(f\"Question {key} is CORRECT\")\n",
        "  else:\n",
        "    print(f\"Question {key} is INCORRECT\")"
      ]
    },
    {
      "cell_type": "markdown",
      "metadata": {
        "id": "vQhQ1jMHyeBo"
      },
      "source": [
        "---\n",
        "\n",
        "## Check your work above\n",
        "\n",
        "If you didn't get them all correct, take a few minutes to think through those that aren't correct.\n",
        "\n",
        "\n",
        "## Submitting Your Work\n",
        "\n",
        "In order to submit your work, you'll need to save this notebook file back to GitHub.  To do that in Google Colab:\n",
        "1. File -> Save a Copy in GitHub\n",
        "2. Make sure your HDS5210 repository is selected\n",
        "3. Make sure the file name includes the week number like this: `week02/week02_assignment_1.ipynb`\n",
        "4. Add a commit message that means something\n",
        "\n",
        "**Be sure week names are lowercase and use a two digit week number!!**\n",
        "\n",
        "**Be sure you use the same file name provided by the instructor!!**\n",
        "\n"
      ]
    }
  ],
  "metadata": {
    "celltoolbar": "Create Assignment",
    "kernelspec": {
      "display_name": "Python 3",
      "language": "python",
      "name": "python3"
    },
    "language_info": {
      "codemirror_mode": {
        "name": "ipython",
        "version": 3
      },
      "file_extension": ".py",
      "mimetype": "text/x-python",
      "name": "python",
      "nbconvert_exporter": "python",
      "pygments_lexer": "ipython3",
      "version": "3.6.7"
    },
    "colab": {
      "provenance": []
    }
  },
  "nbformat": 4,
  "nbformat_minor": 0
}