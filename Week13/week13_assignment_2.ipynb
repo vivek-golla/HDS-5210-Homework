{
  "cells": [
    {
      "cell_type": "markdown",
      "metadata": {
        "nbgrader": {
          "grade": false,
          "grade_id": "intro",
          "locked": true,
          "schema_version": 1,
          "solution": false
        },
        "id": "xqekmvX2WbNq"
      },
      "source": [
        "# Week 12 Assignment\n",
        "\n",
        "# PART 1 - Pivoting Data for Fun!\n",
        "\n",
        "In this exercise, we're going to work with data about condemned buildings in St. Louis.  This data set is in `https://hds5210-data.s3.awsamazon.com/condemn.txt` in CSV format."
      ]
    },
    {
      "cell_type": "markdown",
      "metadata": {
        "nbgrader": {
          "grade": false,
          "grade_id": "q1-intro",
          "locked": true,
          "schema_version": 1,
          "solution": false
        },
        "id": "PVE1UWsnWbNt"
      },
      "source": [
        "## STEP 1: Load and Filter data\n",
        "\n",
        "For this analysis, we want to look only at a relevent range of years and only years that are in the past.  So, let's first take a look at the data between 1986 and 2014 (inclusive of those dates).\n",
        "\n",
        "At the end of this step, you should have a data frame loaded from the condemnations file and filtered down to only the data between 1986 and 2014.  Put that into a dataframe named `condemnations`\n",
        "\n",
        "**Some helpful notes:**\n",
        "* Use the columns `InspectDate` to filter this date range"
      ]
    },
    {
      "cell_type": "code",
      "execution_count": 53,
      "metadata": {
        "nbgrader": {
          "grade": false,
          "grade_id": "q1-solution",
          "locked": false,
          "schema_version": 1,
          "solution": true
        },
        "id": "s606Ys_zWbNt",
        "outputId": "d44daf0e-37c5-4fed-ba1b-8589906b6642",
        "colab": {
          "base_uri": "https://localhost:8080/"
        }
      },
      "outputs": [
        {
          "output_type": "execute_result",
          "data": {
            "text/plain": [
              "(32586, 40)"
            ]
          },
          "metadata": {},
          "execution_count": 53
        }
      ],
      "source": [
        "%matplotlib inline\n",
        "import pandas as pd\n",
        "\n",
        "condemnations = pd.read_csv('https://hds5210-data.s3.amazonaws.com/condemn.txt', low_memory=False)\n",
        "condemnations.shape"
      ]
    },
    {
      "cell_type": "code",
      "source": [
        "condemnations[\"InspectDate\"] = condemnations[\"InspectDate\"].str[:4]\n",
        "condemnations[\"InspectDate\"] = pd.to_datetime(condemnations[\"InspectDate\"])\n",
        "condemnations[\"InspectDate\"]\n",
        "\n",
        "condemnations = condemnations.loc[(condemnations[\"InspectDate\"]>='1986') & (condemnations[\"InspectDate\"]<='2014')]\n",
        "condemnations.shape"
      ],
      "metadata": {
        "id": "b0KZxJwHX9ft",
        "outputId": "020b3157-6ac8-4642-b4e9-f516f973863e",
        "colab": {
          "base_uri": "https://localhost:8080/"
        }
      },
      "execution_count": 54,
      "outputs": [
        {
          "output_type": "execute_result",
          "data": {
            "text/plain": [
              "(30232, 40)"
            ]
          },
          "metadata": {},
          "execution_count": 54
        }
      ]
    },
    {
      "cell_type": "code",
      "execution_count": 55,
      "metadata": {
        "nbgrader": {
          "grade": true,
          "grade_id": "q1-tests",
          "locked": true,
          "points": 6,
          "schema_version": 1,
          "solution": false
        },
        "id": "rKRTXBUxWbNv"
      },
      "outputs": [],
      "source": [
        "assert(condemnations.shape == (30232, 40))\n",
        "assert(len(condemnations[condemnations['InspectDate'] < '1986'])==0)\n",
        "assert(len(condemnations[condemnations['InspectDate'] >= '2015'])==0)"
      ]
    },
    {
      "cell_type": "markdown",
      "metadata": {
        "nbgrader": {
          "grade": false,
          "grade_id": "q2-intro",
          "locked": true,
          "schema_version": 1,
          "solution": false
        },
        "id": "IS2b0X_cWbNv"
      },
      "source": [
        "## STEP 2: Pivot and Summarize\n",
        "\n",
        "In this step we want to pivot our data so that we have one row per year, a column for each value that appears in the `Status` column, and a count of how many condemnations occurred of each type in each year.  Put your summary pivot table into a variable called `by_year`.\n",
        "\n",
        "**Some helpful notes:**\n",
        "* For some reason, Pandas is just kind of stubborn about count being the aggregate function.  You may need to tell it to `np.ma.count` specifically.  I've imported Numpy as np for you."
      ]
    },
    {
      "cell_type": "code",
      "execution_count": null,
      "metadata": {
        "id": "QggW8ZE8WbNw"
      },
      "outputs": [],
      "source": []
    },
    {
      "cell_type": "code",
      "execution_count": null,
      "metadata": {
        "nbgrader": {
          "grade": true,
          "grade_id": "q2-tests",
          "locked": true,
          "points": 6,
          "schema_version": 1,
          "solution": false
        },
        "id": "64wxsHG2WbNw"
      },
      "outputs": [],
      "source": [
        "assert(by_year.shape == (29, 4))\n",
        "assert(list(by_year.columns) == ['B', 'L', 'R', 'W'])\n",
        "assert(list(by_year.sum()) == [10572, 4966, 98, 9670])"
      ]
    },
    {
      "cell_type": "markdown",
      "metadata": {
        "nbgrader": {
          "grade": false,
          "grade_id": "q3-intro",
          "locked": true,
          "schema_version": 1,
          "solution": false
        },
        "id": "YmddLSjEWbNw"
      },
      "source": [
        "## STEP 3: Plot and see what you see\n",
        "\n",
        "Use Pandas built-in plotting capabilities to visualize this information in way that you think makes sense.  It might be that plotting a simple multi-series line chart would give you some insights.  Show your plot in the cell below, then use the text cell below that to write a few sentences about what you see.\n"
      ]
    },
    {
      "cell_type": "code",
      "execution_count": null,
      "metadata": {
        "nbgrader": {
          "grade": true,
          "grade_id": "q3-manual",
          "locked": false,
          "points": 5,
          "schema_version": 1,
          "solution": true
        },
        "id": "G0prO5l-WbNw"
      },
      "outputs": [],
      "source": [
        "%matplotlib inline\n",
        "by_year.plot()"
      ]
    },
    {
      "cell_type": "markdown",
      "metadata": {
        "id": "0xAyyoIcWbNx"
      },
      "source": [
        "---"
      ]
    },
    {
      "cell_type": "code",
      "execution_count": null,
      "metadata": {
        "id": "Y-1bU8BpWbNx"
      },
      "outputs": [],
      "source": []
    },
    {
      "cell_type": "markdown",
      "metadata": {
        "id": "1CYraVYPWbNx"
      },
      "source": [
        "# PART 2 - Video Conference Usage\n",
        "\n",
        "In this next part of the assignment, we'll be looking at how video conference usage changed during the beginning of COVID-19.  This real data.  Please don't judge anyone based on the information here.  ;)  The data is in the `https://hds5210-data.s3.amazonaws.com/meetings.csv` file.\n",
        "\n",
        "For the assignment, I want you to compare (by person) the number of meetings hosted by each user for the last two weeks of February and the last two weeks of March.  This might be a little complicated to think through HOW to do that, so the steps below are one approach.\n",
        "\n",
        "1. Create a new column called startDate that contains just the day part of the startTime column in the data.  You can do that using datetime functions if you want, but you'll notice that the date in this file is a string formatted YYYY-MM-DD-HH:mm:ss, so it's probably easier just to pull out the first 10 characters of the string instead.  `meetings['startTime'].str[0:10]`\n",
        "2. Create another new column.  This one should contain a label like \"BEFORE\" for the week 2/17 - 2/28 and \"DURING\" for the week of 3/16 - 3/27.  A hand tip on this is that you can set values for some rows in a data frame using `meetings.loc[row_filter,'Column Name'] = 'Value'` if you've created a `row_filter` as we discussed in prior weeks.\n",
        "3. From here, using `pivot_table()` is one good way to summarize the information.\n",
        "\n",
        "**FINAL RESULT**\n",
        "\n",
        "For a final result, I'd like you to produce a data frame named **summary** that contains:\n",
        "* One ROW for each userName.  The userName can either be the row index or a column in the data frame.\n",
        "* One COLUMN for the \"BEFORE\" week and one COLUMN for the \"DURING\" week.  Name those columns 'Before' and 'During'.\n",
        "* One more calculated column that shows the percent increase from BEFORE to DURING.  Name that column 'pctChange'.\n"
      ]
    },
    {
      "cell_type": "code",
      "execution_count": null,
      "metadata": {
        "id": "YQQ4s8H1WbNx"
      },
      "outputs": [],
      "source": [
        "import pandas as pd\n",
        "meetings = ..."
      ]
    },
    {
      "cell_type": "code",
      "execution_count": null,
      "metadata": {
        "id": "033iBGnMWbNx"
      },
      "outputs": [],
      "source": [
        "summary = ..."
      ]
    },
    {
      "cell_type": "markdown",
      "metadata": {
        "id": "HarYXRQPWbNx"
      },
      "source": [
        "---"
      ]
    },
    {
      "cell_type": "code",
      "execution_count": null,
      "metadata": {
        "id": "hG7vbuAXWbNx"
      },
      "outputs": [],
      "source": [
        "assert(len(summary) == 22)"
      ]
    },
    {
      "cell_type": "code",
      "execution_count": null,
      "metadata": {
        "id": "u6LkNtzBWbNy"
      },
      "outputs": [],
      "source": [
        "assert(summary['pctChange'].mean().round(2) == 0.92)"
      ]
    },
    {
      "cell_type": "markdown",
      "metadata": {
        "id": "I_3NR_1YWbNy"
      },
      "source": [
        "\n",
        "\n",
        "---\n",
        "\n",
        "\n",
        "\n",
        "## Submitting Your Work\n",
        "\n",
        "Submit as usual\n"
      ]
    }
  ],
  "metadata": {
    "celltoolbar": "Create Assignment",
    "kernelspec": {
      "display_name": "Python 3 (ipykernel)",
      "language": "python",
      "name": "python3"
    },
    "language_info": {
      "codemirror_mode": {
        "name": "ipython",
        "version": 3
      },
      "file_extension": ".py",
      "mimetype": "text/x-python",
      "name": "python",
      "nbconvert_exporter": "python",
      "pygments_lexer": "ipython3",
      "version": "3.13.0"
    },
    "colab": {
      "provenance": []
    }
  },
  "nbformat": 4,
  "nbformat_minor": 0
}